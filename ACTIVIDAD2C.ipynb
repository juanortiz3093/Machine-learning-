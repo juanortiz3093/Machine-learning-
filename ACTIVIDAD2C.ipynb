{
  "nbformat": 4,
  "nbformat_minor": 0,
  "metadata": {
    "colab": {
      "provenance": []
    },
    "kernelspec": {
      "name": "python3",
      "display_name": "Python 3"
    },
    "language_info": {
      "name": "python"
    }
  },
  "cells": [
    {
      "cell_type": "code",
      "execution_count": 1,
      "metadata": {
        "id": "ePNeW0o0qTN1"
      },
      "outputs": [],
      "source": [
        "import pandas as pd\n",
        "import numpy as np\n",
        "import matplotlib.pyplot as plt\n",
        "import seaborn as sns\n",
        "import plotly.express as px\n",
        "import plotly"
      ]
    },
    {
      "cell_type": "code",
      "source": [
        "ruta_archivo = \"/content/activity_2_ml.csv\""
      ],
      "metadata": {
        "id": "8_GqsnmsqgEl"
      },
      "execution_count": 2,
      "outputs": []
    },
    {
      "cell_type": "code",
      "source": [
        "data = pd.read_csv(ruta_archivo)"
      ],
      "metadata": {
        "id": "vRT3H9xtqsX0"
      },
      "execution_count": 4,
      "outputs": []
    },
    {
      "cell_type": "code",
      "source": [
        "print(data)"
      ],
      "metadata": {
        "colab": {
          "base_uri": "https://localhost:8080/"
        },
        "id": "bEM3mf3_quLT",
        "outputId": "67601b31-9693-44e6-c42c-41f7a9decbec"
      },
      "execution_count": 5,
      "outputs": [
        {
          "output_type": "stream",
          "name": "stdout",
          "text": [
            "     YEAR  AGE  DISTANCE_BUS  DISTANCE_INTERSTATE     PRICE  ROOMS  AREA  \\\n",
            "0    1978    1       30000.0              30000.0   75900.0      7  1836   \n",
            "1    1981    7       22000.0              22000.0  140000.0      6  1800   \n",
            "2    1981   31        3000.0               2000.0   68000.0      6  3304   \n",
            "3      81    2       15000.0              17000.0       NaN      7  2744   \n",
            "4    1981    0       10000.0              13000.0  216000.0      7  2548   \n",
            "..    ...  ...           ...                  ...       ...    ...   ...   \n",
            "348  1981   51        2000.0               5000.0   50000.0      5  1140   \n",
            "349    81    1       22000.0              24000.0  162000.0      7  2656   \n",
            "350    78    3       12000.0              12000.0   64900.0      7  2856   \n",
            "351  1978   26       20000.0              22000.0   58000.0      6  1356   \n",
            "352  1978    0       24000.0              25000.0       NaN      7  2464   \n",
            "\n",
            "         LAND  BATHS  \n",
            "0     45738.0      2  \n",
            "1     44867.0      3  \n",
            "2     18731.0      2  \n",
            "3     77101.0      3  \n",
            "4     46174.0      3  \n",
            "..        ...    ...  \n",
            "348   13945.0      1  \n",
            "349   45302.0      3  \n",
            "350   29955.0      2  \n",
            "351  544500.0      2  \n",
            "352   43560.0      3  \n",
            "\n",
            "[353 rows x 9 columns]\n"
          ]
        }
      ]
    },
    {
      "cell_type": "code",
      "source": [
        "wage = data[['YEAR', 'AGE', 'DISTANCE_BUS', 'DISTANCE_INTERSTATE', 'PRICE', 'ROOMS','AREA','LAND','BATHS']]"
      ],
      "metadata": {
        "id": "PWijmsvxq1O2"
      },
      "execution_count": 6,
      "outputs": []
    },
    {
      "cell_type": "code",
      "source": [
        "wage.info()"
      ],
      "metadata": {
        "colab": {
          "base_uri": "https://localhost:8080/"
        },
        "id": "Gpi11vN2r9qQ",
        "outputId": "6c4e027d-b0ce-4e6d-d698-e7c297e6ff65"
      },
      "execution_count": 7,
      "outputs": [
        {
          "output_type": "stream",
          "name": "stdout",
          "text": [
            "<class 'pandas.core.frame.DataFrame'>\n",
            "RangeIndex: 353 entries, 0 to 352\n",
            "Data columns (total 9 columns):\n",
            " #   Column               Non-Null Count  Dtype  \n",
            "---  ------               --------------  -----  \n",
            " 0   YEAR                 353 non-null    int64  \n",
            " 1   AGE                  353 non-null    int64  \n",
            " 2   DISTANCE_BUS         353 non-null    float64\n",
            " 3   DISTANCE_INTERSTATE  353 non-null    float64\n",
            " 4   PRICE                283 non-null    float64\n",
            " 5   ROOMS                353 non-null    int64  \n",
            " 6   AREA                 353 non-null    int64  \n",
            " 7   LAND                 353 non-null    float64\n",
            " 8   BATHS                353 non-null    int64  \n",
            "dtypes: float64(4), int64(5)\n",
            "memory usage: 24.9 KB\n"
          ]
        }
      ]
    },
    {
      "cell_type": "code",
      "source": [
        "wage"
      ],
      "metadata": {
        "colab": {
          "base_uri": "https://localhost:8080/",
          "height": 424
        },
        "id": "vAGdynCzsHql",
        "outputId": "996aefa7-43d5-4861-d19b-9772ff5a4f60"
      },
      "execution_count": 10,
      "outputs": [
        {
          "output_type": "execute_result",
          "data": {
            "text/plain": [
              "     YEAR  AGE  DISTANCE_BUS  DISTANCE_INTERSTATE     PRICE  ROOMS  AREA  \\\n",
              "0    1978    1       30000.0              30000.0   75900.0      7  1836   \n",
              "1    1981    7       22000.0              22000.0  140000.0      6  1800   \n",
              "2    1981   31        3000.0               2000.0   68000.0      6  3304   \n",
              "3      81    2       15000.0              17000.0       NaN      7  2744   \n",
              "4    1981    0       10000.0              13000.0  216000.0      7  2548   \n",
              "..    ...  ...           ...                  ...       ...    ...   ...   \n",
              "348  1981   51        2000.0               5000.0   50000.0      5  1140   \n",
              "349    81    1       22000.0              24000.0  162000.0      7  2656   \n",
              "350    78    3       12000.0              12000.0   64900.0      7  2856   \n",
              "351  1978   26       20000.0              22000.0   58000.0      6  1356   \n",
              "352  1978    0       24000.0              25000.0       NaN      7  2464   \n",
              "\n",
              "         LAND  BATHS  \n",
              "0     45738.0      2  \n",
              "1     44867.0      3  \n",
              "2     18731.0      2  \n",
              "3     77101.0      3  \n",
              "4     46174.0      3  \n",
              "..        ...    ...  \n",
              "348   13945.0      1  \n",
              "349   45302.0      3  \n",
              "350   29955.0      2  \n",
              "351  544500.0      2  \n",
              "352   43560.0      3  \n",
              "\n",
              "[353 rows x 9 columns]"
            ],
            "text/html": [
              "\n",
              "  <div id=\"df-f47de6d4-0804-441d-8cff-2f1cb0a5640b\" class=\"colab-df-container\">\n",
              "    <div>\n",
              "<style scoped>\n",
              "    .dataframe tbody tr th:only-of-type {\n",
              "        vertical-align: middle;\n",
              "    }\n",
              "\n",
              "    .dataframe tbody tr th {\n",
              "        vertical-align: top;\n",
              "    }\n",
              "\n",
              "    .dataframe thead th {\n",
              "        text-align: right;\n",
              "    }\n",
              "</style>\n",
              "<table border=\"1\" class=\"dataframe\">\n",
              "  <thead>\n",
              "    <tr style=\"text-align: right;\">\n",
              "      <th></th>\n",
              "      <th>YEAR</th>\n",
              "      <th>AGE</th>\n",
              "      <th>DISTANCE_BUS</th>\n",
              "      <th>DISTANCE_INTERSTATE</th>\n",
              "      <th>PRICE</th>\n",
              "      <th>ROOMS</th>\n",
              "      <th>AREA</th>\n",
              "      <th>LAND</th>\n",
              "      <th>BATHS</th>\n",
              "    </tr>\n",
              "  </thead>\n",
              "  <tbody>\n",
              "    <tr>\n",
              "      <th>0</th>\n",
              "      <td>1978</td>\n",
              "      <td>1</td>\n",
              "      <td>30000.0</td>\n",
              "      <td>30000.0</td>\n",
              "      <td>75900.0</td>\n",
              "      <td>7</td>\n",
              "      <td>1836</td>\n",
              "      <td>45738.0</td>\n",
              "      <td>2</td>\n",
              "    </tr>\n",
              "    <tr>\n",
              "      <th>1</th>\n",
              "      <td>1981</td>\n",
              "      <td>7</td>\n",
              "      <td>22000.0</td>\n",
              "      <td>22000.0</td>\n",
              "      <td>140000.0</td>\n",
              "      <td>6</td>\n",
              "      <td>1800</td>\n",
              "      <td>44867.0</td>\n",
              "      <td>3</td>\n",
              "    </tr>\n",
              "    <tr>\n",
              "      <th>2</th>\n",
              "      <td>1981</td>\n",
              "      <td>31</td>\n",
              "      <td>3000.0</td>\n",
              "      <td>2000.0</td>\n",
              "      <td>68000.0</td>\n",
              "      <td>6</td>\n",
              "      <td>3304</td>\n",
              "      <td>18731.0</td>\n",
              "      <td>2</td>\n",
              "    </tr>\n",
              "    <tr>\n",
              "      <th>3</th>\n",
              "      <td>81</td>\n",
              "      <td>2</td>\n",
              "      <td>15000.0</td>\n",
              "      <td>17000.0</td>\n",
              "      <td>NaN</td>\n",
              "      <td>7</td>\n",
              "      <td>2744</td>\n",
              "      <td>77101.0</td>\n",
              "      <td>3</td>\n",
              "    </tr>\n",
              "    <tr>\n",
              "      <th>4</th>\n",
              "      <td>1981</td>\n",
              "      <td>0</td>\n",
              "      <td>10000.0</td>\n",
              "      <td>13000.0</td>\n",
              "      <td>216000.0</td>\n",
              "      <td>7</td>\n",
              "      <td>2548</td>\n",
              "      <td>46174.0</td>\n",
              "      <td>3</td>\n",
              "    </tr>\n",
              "    <tr>\n",
              "      <th>...</th>\n",
              "      <td>...</td>\n",
              "      <td>...</td>\n",
              "      <td>...</td>\n",
              "      <td>...</td>\n",
              "      <td>...</td>\n",
              "      <td>...</td>\n",
              "      <td>...</td>\n",
              "      <td>...</td>\n",
              "      <td>...</td>\n",
              "    </tr>\n",
              "    <tr>\n",
              "      <th>348</th>\n",
              "      <td>1981</td>\n",
              "      <td>51</td>\n",
              "      <td>2000.0</td>\n",
              "      <td>5000.0</td>\n",
              "      <td>50000.0</td>\n",
              "      <td>5</td>\n",
              "      <td>1140</td>\n",
              "      <td>13945.0</td>\n",
              "      <td>1</td>\n",
              "    </tr>\n",
              "    <tr>\n",
              "      <th>349</th>\n",
              "      <td>81</td>\n",
              "      <td>1</td>\n",
              "      <td>22000.0</td>\n",
              "      <td>24000.0</td>\n",
              "      <td>162000.0</td>\n",
              "      <td>7</td>\n",
              "      <td>2656</td>\n",
              "      <td>45302.0</td>\n",
              "      <td>3</td>\n",
              "    </tr>\n",
              "    <tr>\n",
              "      <th>350</th>\n",
              "      <td>78</td>\n",
              "      <td>3</td>\n",
              "      <td>12000.0</td>\n",
              "      <td>12000.0</td>\n",
              "      <td>64900.0</td>\n",
              "      <td>7</td>\n",
              "      <td>2856</td>\n",
              "      <td>29955.0</td>\n",
              "      <td>2</td>\n",
              "    </tr>\n",
              "    <tr>\n",
              "      <th>351</th>\n",
              "      <td>1978</td>\n",
              "      <td>26</td>\n",
              "      <td>20000.0</td>\n",
              "      <td>22000.0</td>\n",
              "      <td>58000.0</td>\n",
              "      <td>6</td>\n",
              "      <td>1356</td>\n",
              "      <td>544500.0</td>\n",
              "      <td>2</td>\n",
              "    </tr>\n",
              "    <tr>\n",
              "      <th>352</th>\n",
              "      <td>1978</td>\n",
              "      <td>0</td>\n",
              "      <td>24000.0</td>\n",
              "      <td>25000.0</td>\n",
              "      <td>NaN</td>\n",
              "      <td>7</td>\n",
              "      <td>2464</td>\n",
              "      <td>43560.0</td>\n",
              "      <td>3</td>\n",
              "    </tr>\n",
              "  </tbody>\n",
              "</table>\n",
              "<p>353 rows × 9 columns</p>\n",
              "</div>\n",
              "    <div class=\"colab-df-buttons\">\n",
              "\n",
              "  <div class=\"colab-df-container\">\n",
              "    <button class=\"colab-df-convert\" onclick=\"convertToInteractive('df-f47de6d4-0804-441d-8cff-2f1cb0a5640b')\"\n",
              "            title=\"Convert this dataframe to an interactive table.\"\n",
              "            style=\"display:none;\">\n",
              "\n",
              "  <svg xmlns=\"http://www.w3.org/2000/svg\" height=\"24px\" viewBox=\"0 -960 960 960\">\n",
              "    <path d=\"M120-120v-720h720v720H120Zm60-500h600v-160H180v160Zm220 220h160v-160H400v160Zm0 220h160v-160H400v160ZM180-400h160v-160H180v160Zm440 0h160v-160H620v160ZM180-180h160v-160H180v160Zm440 0h160v-160H620v160Z\"/>\n",
              "  </svg>\n",
              "    </button>\n",
              "\n",
              "  <style>\n",
              "    .colab-df-container {\n",
              "      display:flex;\n",
              "      gap: 12px;\n",
              "    }\n",
              "\n",
              "    .colab-df-convert {\n",
              "      background-color: #E8F0FE;\n",
              "      border: none;\n",
              "      border-radius: 50%;\n",
              "      cursor: pointer;\n",
              "      display: none;\n",
              "      fill: #1967D2;\n",
              "      height: 32px;\n",
              "      padding: 0 0 0 0;\n",
              "      width: 32px;\n",
              "    }\n",
              "\n",
              "    .colab-df-convert:hover {\n",
              "      background-color: #E2EBFA;\n",
              "      box-shadow: 0px 1px 2px rgba(60, 64, 67, 0.3), 0px 1px 3px 1px rgba(60, 64, 67, 0.15);\n",
              "      fill: #174EA6;\n",
              "    }\n",
              "\n",
              "    .colab-df-buttons div {\n",
              "      margin-bottom: 4px;\n",
              "    }\n",
              "\n",
              "    [theme=dark] .colab-df-convert {\n",
              "      background-color: #3B4455;\n",
              "      fill: #D2E3FC;\n",
              "    }\n",
              "\n",
              "    [theme=dark] .colab-df-convert:hover {\n",
              "      background-color: #434B5C;\n",
              "      box-shadow: 0px 1px 3px 1px rgba(0, 0, 0, 0.15);\n",
              "      filter: drop-shadow(0px 1px 2px rgba(0, 0, 0, 0.3));\n",
              "      fill: #FFFFFF;\n",
              "    }\n",
              "  </style>\n",
              "\n",
              "    <script>\n",
              "      const buttonEl =\n",
              "        document.querySelector('#df-f47de6d4-0804-441d-8cff-2f1cb0a5640b button.colab-df-convert');\n",
              "      buttonEl.style.display =\n",
              "        google.colab.kernel.accessAllowed ? 'block' : 'none';\n",
              "\n",
              "      async function convertToInteractive(key) {\n",
              "        const element = document.querySelector('#df-f47de6d4-0804-441d-8cff-2f1cb0a5640b');\n",
              "        const dataTable =\n",
              "          await google.colab.kernel.invokeFunction('convertToInteractive',\n",
              "                                                    [key], {});\n",
              "        if (!dataTable) return;\n",
              "\n",
              "        const docLinkHtml = 'Like what you see? Visit the ' +\n",
              "          '<a target=\"_blank\" href=https://colab.research.google.com/notebooks/data_table.ipynb>data table notebook</a>'\n",
              "          + ' to learn more about interactive tables.';\n",
              "        element.innerHTML = '';\n",
              "        dataTable['output_type'] = 'display_data';\n",
              "        await google.colab.output.renderOutput(dataTable, element);\n",
              "        const docLink = document.createElement('div');\n",
              "        docLink.innerHTML = docLinkHtml;\n",
              "        element.appendChild(docLink);\n",
              "      }\n",
              "    </script>\n",
              "  </div>\n",
              "\n",
              "\n",
              "<div id=\"df-6ea5dac0-708b-4c80-ae19-32999741d08f\">\n",
              "  <button class=\"colab-df-quickchart\" onclick=\"quickchart('df-6ea5dac0-708b-4c80-ae19-32999741d08f')\"\n",
              "            title=\"Suggest charts\"\n",
              "            style=\"display:none;\">\n",
              "\n",
              "<svg xmlns=\"http://www.w3.org/2000/svg\" height=\"24px\"viewBox=\"0 0 24 24\"\n",
              "     width=\"24px\">\n",
              "    <g>\n",
              "        <path d=\"M19 3H5c-1.1 0-2 .9-2 2v14c0 1.1.9 2 2 2h14c1.1 0 2-.9 2-2V5c0-1.1-.9-2-2-2zM9 17H7v-7h2v7zm4 0h-2V7h2v10zm4 0h-2v-4h2v4z\"/>\n",
              "    </g>\n",
              "</svg>\n",
              "  </button>\n",
              "\n",
              "<style>\n",
              "  .colab-df-quickchart {\n",
              "      --bg-color: #E8F0FE;\n",
              "      --fill-color: #1967D2;\n",
              "      --hover-bg-color: #E2EBFA;\n",
              "      --hover-fill-color: #174EA6;\n",
              "      --disabled-fill-color: #AAA;\n",
              "      --disabled-bg-color: #DDD;\n",
              "  }\n",
              "\n",
              "  [theme=dark] .colab-df-quickchart {\n",
              "      --bg-color: #3B4455;\n",
              "      --fill-color: #D2E3FC;\n",
              "      --hover-bg-color: #434B5C;\n",
              "      --hover-fill-color: #FFFFFF;\n",
              "      --disabled-bg-color: #3B4455;\n",
              "      --disabled-fill-color: #666;\n",
              "  }\n",
              "\n",
              "  .colab-df-quickchart {\n",
              "    background-color: var(--bg-color);\n",
              "    border: none;\n",
              "    border-radius: 50%;\n",
              "    cursor: pointer;\n",
              "    display: none;\n",
              "    fill: var(--fill-color);\n",
              "    height: 32px;\n",
              "    padding: 0;\n",
              "    width: 32px;\n",
              "  }\n",
              "\n",
              "  .colab-df-quickchart:hover {\n",
              "    background-color: var(--hover-bg-color);\n",
              "    box-shadow: 0 1px 2px rgba(60, 64, 67, 0.3), 0 1px 3px 1px rgba(60, 64, 67, 0.15);\n",
              "    fill: var(--button-hover-fill-color);\n",
              "  }\n",
              "\n",
              "  .colab-df-quickchart-complete:disabled,\n",
              "  .colab-df-quickchart-complete:disabled:hover {\n",
              "    background-color: var(--disabled-bg-color);\n",
              "    fill: var(--disabled-fill-color);\n",
              "    box-shadow: none;\n",
              "  }\n",
              "\n",
              "  .colab-df-spinner {\n",
              "    border: 2px solid var(--fill-color);\n",
              "    border-color: transparent;\n",
              "    border-bottom-color: var(--fill-color);\n",
              "    animation:\n",
              "      spin 1s steps(1) infinite;\n",
              "  }\n",
              "\n",
              "  @keyframes spin {\n",
              "    0% {\n",
              "      border-color: transparent;\n",
              "      border-bottom-color: var(--fill-color);\n",
              "      border-left-color: var(--fill-color);\n",
              "    }\n",
              "    20% {\n",
              "      border-color: transparent;\n",
              "      border-left-color: var(--fill-color);\n",
              "      border-top-color: var(--fill-color);\n",
              "    }\n",
              "    30% {\n",
              "      border-color: transparent;\n",
              "      border-left-color: var(--fill-color);\n",
              "      border-top-color: var(--fill-color);\n",
              "      border-right-color: var(--fill-color);\n",
              "    }\n",
              "    40% {\n",
              "      border-color: transparent;\n",
              "      border-right-color: var(--fill-color);\n",
              "      border-top-color: var(--fill-color);\n",
              "    }\n",
              "    60% {\n",
              "      border-color: transparent;\n",
              "      border-right-color: var(--fill-color);\n",
              "    }\n",
              "    80% {\n",
              "      border-color: transparent;\n",
              "      border-right-color: var(--fill-color);\n",
              "      border-bottom-color: var(--fill-color);\n",
              "    }\n",
              "    90% {\n",
              "      border-color: transparent;\n",
              "      border-bottom-color: var(--fill-color);\n",
              "    }\n",
              "  }\n",
              "</style>\n",
              "\n",
              "  <script>\n",
              "    async function quickchart(key) {\n",
              "      const quickchartButtonEl =\n",
              "        document.querySelector('#' + key + ' button');\n",
              "      quickchartButtonEl.disabled = true;  // To prevent multiple clicks.\n",
              "      quickchartButtonEl.classList.add('colab-df-spinner');\n",
              "      try {\n",
              "        const charts = await google.colab.kernel.invokeFunction(\n",
              "            'suggestCharts', [key], {});\n",
              "      } catch (error) {\n",
              "        console.error('Error during call to suggestCharts:', error);\n",
              "      }\n",
              "      quickchartButtonEl.classList.remove('colab-df-spinner');\n",
              "      quickchartButtonEl.classList.add('colab-df-quickchart-complete');\n",
              "    }\n",
              "    (() => {\n",
              "      let quickchartButtonEl =\n",
              "        document.querySelector('#df-6ea5dac0-708b-4c80-ae19-32999741d08f button');\n",
              "      quickchartButtonEl.style.display =\n",
              "        google.colab.kernel.accessAllowed ? 'block' : 'none';\n",
              "    })();\n",
              "  </script>\n",
              "</div>\n",
              "\n",
              "  <div id=\"id_c2d365a7-374f-4707-a5ee-6beb0345bcf6\">\n",
              "    <style>\n",
              "      .colab-df-generate {\n",
              "        background-color: #E8F0FE;\n",
              "        border: none;\n",
              "        border-radius: 50%;\n",
              "        cursor: pointer;\n",
              "        display: none;\n",
              "        fill: #1967D2;\n",
              "        height: 32px;\n",
              "        padding: 0 0 0 0;\n",
              "        width: 32px;\n",
              "      }\n",
              "\n",
              "      .colab-df-generate:hover {\n",
              "        background-color: #E2EBFA;\n",
              "        box-shadow: 0px 1px 2px rgba(60, 64, 67, 0.3), 0px 1px 3px 1px rgba(60, 64, 67, 0.15);\n",
              "        fill: #174EA6;\n",
              "      }\n",
              "\n",
              "      [theme=dark] .colab-df-generate {\n",
              "        background-color: #3B4455;\n",
              "        fill: #D2E3FC;\n",
              "      }\n",
              "\n",
              "      [theme=dark] .colab-df-generate:hover {\n",
              "        background-color: #434B5C;\n",
              "        box-shadow: 0px 1px 3px 1px rgba(0, 0, 0, 0.15);\n",
              "        filter: drop-shadow(0px 1px 2px rgba(0, 0, 0, 0.3));\n",
              "        fill: #FFFFFF;\n",
              "      }\n",
              "    </style>\n",
              "    <button class=\"colab-df-generate\" onclick=\"generateWithVariable('wage')\"\n",
              "            title=\"Generate code using this dataframe.\"\n",
              "            style=\"display:none;\">\n",
              "\n",
              "  <svg xmlns=\"http://www.w3.org/2000/svg\" height=\"24px\"viewBox=\"0 0 24 24\"\n",
              "       width=\"24px\">\n",
              "    <path d=\"M7,19H8.4L18.45,9,17,7.55,7,17.6ZM5,21V16.75L18.45,3.32a2,2,0,0,1,2.83,0l1.4,1.43a1.91,1.91,0,0,1,.58,1.4,1.91,1.91,0,0,1-.58,1.4L9.25,21ZM18.45,9,17,7.55Zm-12,3A5.31,5.31,0,0,0,4.9,8.1,5.31,5.31,0,0,0,1,6.5,5.31,5.31,0,0,0,4.9,4.9,5.31,5.31,0,0,0,6.5,1,5.31,5.31,0,0,0,8.1,4.9,5.31,5.31,0,0,0,12,6.5,5.46,5.46,0,0,0,6.5,12Z\"/>\n",
              "  </svg>\n",
              "    </button>\n",
              "    <script>\n",
              "      (() => {\n",
              "      const buttonEl =\n",
              "        document.querySelector('#id_c2d365a7-374f-4707-a5ee-6beb0345bcf6 button.colab-df-generate');\n",
              "      buttonEl.style.display =\n",
              "        google.colab.kernel.accessAllowed ? 'block' : 'none';\n",
              "\n",
              "      buttonEl.onclick = () => {\n",
              "        google.colab.notebook.generateWithVariable('wage');\n",
              "      }\n",
              "      })();\n",
              "    </script>\n",
              "  </div>\n",
              "\n",
              "    </div>\n",
              "  </div>\n"
            ],
            "application/vnd.google.colaboratory.intrinsic+json": {
              "type": "dataframe",
              "variable_name": "wage",
              "summary": "{\n  \"name\": \"wage\",\n  \"rows\": 353,\n  \"fields\": [\n    {\n      \"column\": \"YEAR\",\n      \"properties\": {\n        \"dtype\": \"number\",\n        \"std\": 792,\n        \"min\": 78,\n        \"max\": 1981,\n        \"num_unique_values\": 4,\n        \"samples\": [\n          1981,\n          78,\n          1978\n        ],\n        \"semantic_type\": \"\",\n        \"description\": \"\"\n      }\n    },\n    {\n      \"column\": \"AGE\",\n      \"properties\": {\n        \"dtype\": \"number\",\n        \"std\": 22,\n        \"min\": 0,\n        \"max\": 80,\n        \"num_unique_values\": 50,\n        \"samples\": [\n          4,\n          30,\n          23\n        ],\n        \"semantic_type\": \"\",\n        \"description\": \"\"\n      }\n    },\n    {\n      \"column\": \"DISTANCE_BUS\",\n      \"properties\": {\n        \"dtype\": \"number\",\n        \"std\": 8914.419489739192,\n        \"min\": 1000.0,\n        \"max\": 35000.0,\n        \"num_unique_values\": 34,\n        \"samples\": [\n          24000.0,\n          12000.0,\n          29000.0\n        ],\n        \"semantic_type\": \"\",\n        \"description\": \"\"\n      }\n    },\n    {\n      \"column\": \"DISTANCE_INTERSTATE\",\n      \"properties\": {\n        \"dtype\": \"number\",\n        \"std\": 8987.079209165831,\n        \"min\": 1000.0,\n        \"max\": 34000.0,\n        \"num_unique_values\": 34,\n        \"samples\": [\n          28000.0,\n          31000.0,\n          18000.0\n        ],\n        \"semantic_type\": \"\",\n        \"description\": \"\"\n      }\n    },\n    {\n      \"column\": \"PRICE\",\n      \"properties\": {\n        \"dtype\": \"number\",\n        \"std\": 41639.18044117699,\n        \"min\": 31000.0,\n        \"max\": 300000.0,\n        \"num_unique_values\": 174,\n        \"samples\": [\n          143000.0,\n          38500.0,\n          63000.0\n        ],\n        \"semantic_type\": \"\",\n        \"description\": \"\"\n      }\n    },\n    {\n      \"column\": \"ROOMS\",\n      \"properties\": {\n        \"dtype\": \"number\",\n        \"std\": 0,\n        \"min\": 4,\n        \"max\": 10,\n        \"num_unique_values\": 7,\n        \"samples\": [\n          7,\n          6,\n          10\n        ],\n        \"semantic_type\": \"\",\n        \"description\": \"\"\n      }\n    },\n    {\n      \"column\": \"AREA\",\n      \"properties\": {\n        \"dtype\": \"number\",\n        \"std\": 686,\n        \"min\": 735,\n        \"max\": 5136,\n        \"num_unique_values\": 253,\n        \"samples\": [\n          1556,\n          2464,\n          2510\n        ],\n        \"semantic_type\": \"\",\n        \"description\": \"\"\n      }\n    },\n    {\n      \"column\": \"LAND\",\n      \"properties\": {\n        \"dtype\": \"number\",\n        \"std\": 38190.7483087597,\n        \"min\": 1710.0,\n        \"max\": 544500.0,\n        \"num_unique_values\": 215,\n        \"samples\": [\n          42688.0,\n          5153.0,\n          44864.0\n        ],\n        \"semantic_type\": \"\",\n        \"description\": \"\"\n      }\n    },\n    {\n      \"column\": \"BATHS\",\n      \"properties\": {\n        \"dtype\": \"number\",\n        \"std\": 0,\n        \"min\": 1,\n        \"max\": 4,\n        \"num_unique_values\": 4,\n        \"samples\": [\n          3,\n          4,\n          2\n        ],\n        \"semantic_type\": \"\",\n        \"description\": \"\"\n      }\n    }\n  ]\n}"
            }
          },
          "metadata": {},
          "execution_count": 10
        }
      ]
    },
    {
      "cell_type": "markdown",
      "source": [
        "AEN AGE PONE 0 Y PUES NO SE PODRIA TOMAR QUE TIENE 0 AÑOS"
      ],
      "metadata": {
        "id": "UuyTNh2U97yB"
      }
    },
    {
      "cell_type": "code",
      "source": [
        "wage['YEAR'].unique()"
      ],
      "metadata": {
        "colab": {
          "base_uri": "https://localhost:8080/"
        },
        "id": "2ySDDwPt9smp",
        "outputId": "dc026f0a-5c19-4b7a-81b4-3d1914c32809"
      },
      "execution_count": 11,
      "outputs": [
        {
          "output_type": "execute_result",
          "data": {
            "text/plain": [
              "array([1978, 1981,   81,   78])"
            ]
          },
          "metadata": {},
          "execution_count": 11
        }
      ]
    },
    {
      "cell_type": "code",
      "source": [
        "wage['YEAR'] = wage['YEAR'].astype(str)"
      ],
      "metadata": {
        "id": "Ewc034VGU49x"
      },
      "execution_count": 15,
      "outputs": []
    },
    {
      "cell_type": "code",
      "source": [
        "wage['YEAR'] = wage['YEAR'].apply(lambda x: '19' + x if len(x) == 2 else x)"
      ],
      "metadata": {
        "id": "4S1zQPn3VKZX"
      },
      "execution_count": 16,
      "outputs": []
    },
    {
      "cell_type": "code",
      "source": [
        "wage['YEAR'].unique()"
      ],
      "metadata": {
        "colab": {
          "base_uri": "https://localhost:8080/"
        },
        "id": "sX4rd2WDVYX0",
        "outputId": "d899e78c-aab7-45ff-c5b5-fe52034fa645"
      },
      "execution_count": 17,
      "outputs": [
        {
          "output_type": "execute_result",
          "data": {
            "text/plain": [
              "array(['1978', '1981'], dtype=object)"
            ]
          },
          "metadata": {},
          "execution_count": 17
        }
      ]
    },
    {
      "cell_type": "code",
      "source": [
        "wage.duplicated().sum()"
      ],
      "metadata": {
        "colab": {
          "base_uri": "https://localhost:8080/"
        },
        "id": "f_hyEgIkr_ww",
        "outputId": "75f0c7f6-656b-4dc3-dd0f-f93e0d3156d0"
      },
      "execution_count": 18,
      "outputs": [
        {
          "output_type": "execute_result",
          "data": {
            "text/plain": [
              "21"
            ]
          },
          "metadata": {},
          "execution_count": 18
        }
      ]
    },
    {
      "cell_type": "code",
      "source": [
        "\n",
        "wage.drop_duplicates(inplace=True)\n",
        "wage.reset_index(drop=True, inplace=True)"
      ],
      "metadata": {
        "id": "iJWNXfIdsC7s"
      },
      "execution_count": 19,
      "outputs": []
    },
    {
      "cell_type": "code",
      "source": [
        "wage.duplicated().sum()"
      ],
      "metadata": {
        "colab": {
          "base_uri": "https://localhost:8080/"
        },
        "id": "L0wixuSRsEvd",
        "outputId": "40a654e3-577a-4567-cf32-68df03630e54"
      },
      "execution_count": 20,
      "outputs": [
        {
          "output_type": "execute_result",
          "data": {
            "text/plain": [
              "0"
            ]
          },
          "metadata": {},
          "execution_count": 20
        }
      ]
    },
    {
      "cell_type": "code",
      "source": [
        "wage"
      ],
      "metadata": {
        "colab": {
          "base_uri": "https://localhost:8080/",
          "height": 424
        },
        "id": "HLFKK95uO9rb",
        "outputId": "f0ff3ec9-f1df-4739-c631-067fed9b26b3"
      },
      "execution_count": 21,
      "outputs": [
        {
          "output_type": "execute_result",
          "data": {
            "text/plain": [
              "     YEAR  AGE  DISTANCE_BUS  DISTANCE_INTERSTATE     PRICE  ROOMS  AREA  \\\n",
              "0    1978    1       30000.0              30000.0   75900.0      7  1836   \n",
              "1    1981    7       22000.0              22000.0  140000.0      6  1800   \n",
              "2    1981   31        3000.0               2000.0   68000.0      6  3304   \n",
              "3    1981    2       15000.0              17000.0       NaN      7  2744   \n",
              "4    1981    0       10000.0              13000.0  216000.0      7  2548   \n",
              "..    ...  ...           ...                  ...       ...    ...   ...   \n",
              "327  1981   51        2000.0               5000.0   50000.0      5  1140   \n",
              "328  1981    1       22000.0              24000.0  162000.0      7  2656   \n",
              "329  1978    3       12000.0              12000.0   64900.0      7  2856   \n",
              "330  1978   26       20000.0              22000.0   58000.0      6  1356   \n",
              "331  1978    0       24000.0              25000.0       NaN      7  2464   \n",
              "\n",
              "         LAND  BATHS  \n",
              "0     45738.0      2  \n",
              "1     44867.0      3  \n",
              "2     18731.0      2  \n",
              "3     77101.0      3  \n",
              "4     46174.0      3  \n",
              "..        ...    ...  \n",
              "327   13945.0      1  \n",
              "328   45302.0      3  \n",
              "329   29955.0      2  \n",
              "330  544500.0      2  \n",
              "331   43560.0      3  \n",
              "\n",
              "[332 rows x 9 columns]"
            ],
            "text/html": [
              "\n",
              "  <div id=\"df-353aeff3-04da-472c-9166-3efd5b85b394\" class=\"colab-df-container\">\n",
              "    <div>\n",
              "<style scoped>\n",
              "    .dataframe tbody tr th:only-of-type {\n",
              "        vertical-align: middle;\n",
              "    }\n",
              "\n",
              "    .dataframe tbody tr th {\n",
              "        vertical-align: top;\n",
              "    }\n",
              "\n",
              "    .dataframe thead th {\n",
              "        text-align: right;\n",
              "    }\n",
              "</style>\n",
              "<table border=\"1\" class=\"dataframe\">\n",
              "  <thead>\n",
              "    <tr style=\"text-align: right;\">\n",
              "      <th></th>\n",
              "      <th>YEAR</th>\n",
              "      <th>AGE</th>\n",
              "      <th>DISTANCE_BUS</th>\n",
              "      <th>DISTANCE_INTERSTATE</th>\n",
              "      <th>PRICE</th>\n",
              "      <th>ROOMS</th>\n",
              "      <th>AREA</th>\n",
              "      <th>LAND</th>\n",
              "      <th>BATHS</th>\n",
              "    </tr>\n",
              "  </thead>\n",
              "  <tbody>\n",
              "    <tr>\n",
              "      <th>0</th>\n",
              "      <td>1978</td>\n",
              "      <td>1</td>\n",
              "      <td>30000.0</td>\n",
              "      <td>30000.0</td>\n",
              "      <td>75900.0</td>\n",
              "      <td>7</td>\n",
              "      <td>1836</td>\n",
              "      <td>45738.0</td>\n",
              "      <td>2</td>\n",
              "    </tr>\n",
              "    <tr>\n",
              "      <th>1</th>\n",
              "      <td>1981</td>\n",
              "      <td>7</td>\n",
              "      <td>22000.0</td>\n",
              "      <td>22000.0</td>\n",
              "      <td>140000.0</td>\n",
              "      <td>6</td>\n",
              "      <td>1800</td>\n",
              "      <td>44867.0</td>\n",
              "      <td>3</td>\n",
              "    </tr>\n",
              "    <tr>\n",
              "      <th>2</th>\n",
              "      <td>1981</td>\n",
              "      <td>31</td>\n",
              "      <td>3000.0</td>\n",
              "      <td>2000.0</td>\n",
              "      <td>68000.0</td>\n",
              "      <td>6</td>\n",
              "      <td>3304</td>\n",
              "      <td>18731.0</td>\n",
              "      <td>2</td>\n",
              "    </tr>\n",
              "    <tr>\n",
              "      <th>3</th>\n",
              "      <td>1981</td>\n",
              "      <td>2</td>\n",
              "      <td>15000.0</td>\n",
              "      <td>17000.0</td>\n",
              "      <td>NaN</td>\n",
              "      <td>7</td>\n",
              "      <td>2744</td>\n",
              "      <td>77101.0</td>\n",
              "      <td>3</td>\n",
              "    </tr>\n",
              "    <tr>\n",
              "      <th>4</th>\n",
              "      <td>1981</td>\n",
              "      <td>0</td>\n",
              "      <td>10000.0</td>\n",
              "      <td>13000.0</td>\n",
              "      <td>216000.0</td>\n",
              "      <td>7</td>\n",
              "      <td>2548</td>\n",
              "      <td>46174.0</td>\n",
              "      <td>3</td>\n",
              "    </tr>\n",
              "    <tr>\n",
              "      <th>...</th>\n",
              "      <td>...</td>\n",
              "      <td>...</td>\n",
              "      <td>...</td>\n",
              "      <td>...</td>\n",
              "      <td>...</td>\n",
              "      <td>...</td>\n",
              "      <td>...</td>\n",
              "      <td>...</td>\n",
              "      <td>...</td>\n",
              "    </tr>\n",
              "    <tr>\n",
              "      <th>327</th>\n",
              "      <td>1981</td>\n",
              "      <td>51</td>\n",
              "      <td>2000.0</td>\n",
              "      <td>5000.0</td>\n",
              "      <td>50000.0</td>\n",
              "      <td>5</td>\n",
              "      <td>1140</td>\n",
              "      <td>13945.0</td>\n",
              "      <td>1</td>\n",
              "    </tr>\n",
              "    <tr>\n",
              "      <th>328</th>\n",
              "      <td>1981</td>\n",
              "      <td>1</td>\n",
              "      <td>22000.0</td>\n",
              "      <td>24000.0</td>\n",
              "      <td>162000.0</td>\n",
              "      <td>7</td>\n",
              "      <td>2656</td>\n",
              "      <td>45302.0</td>\n",
              "      <td>3</td>\n",
              "    </tr>\n",
              "    <tr>\n",
              "      <th>329</th>\n",
              "      <td>1978</td>\n",
              "      <td>3</td>\n",
              "      <td>12000.0</td>\n",
              "      <td>12000.0</td>\n",
              "      <td>64900.0</td>\n",
              "      <td>7</td>\n",
              "      <td>2856</td>\n",
              "      <td>29955.0</td>\n",
              "      <td>2</td>\n",
              "    </tr>\n",
              "    <tr>\n",
              "      <th>330</th>\n",
              "      <td>1978</td>\n",
              "      <td>26</td>\n",
              "      <td>20000.0</td>\n",
              "      <td>22000.0</td>\n",
              "      <td>58000.0</td>\n",
              "      <td>6</td>\n",
              "      <td>1356</td>\n",
              "      <td>544500.0</td>\n",
              "      <td>2</td>\n",
              "    </tr>\n",
              "    <tr>\n",
              "      <th>331</th>\n",
              "      <td>1978</td>\n",
              "      <td>0</td>\n",
              "      <td>24000.0</td>\n",
              "      <td>25000.0</td>\n",
              "      <td>NaN</td>\n",
              "      <td>7</td>\n",
              "      <td>2464</td>\n",
              "      <td>43560.0</td>\n",
              "      <td>3</td>\n",
              "    </tr>\n",
              "  </tbody>\n",
              "</table>\n",
              "<p>332 rows × 9 columns</p>\n",
              "</div>\n",
              "    <div class=\"colab-df-buttons\">\n",
              "\n",
              "  <div class=\"colab-df-container\">\n",
              "    <button class=\"colab-df-convert\" onclick=\"convertToInteractive('df-353aeff3-04da-472c-9166-3efd5b85b394')\"\n",
              "            title=\"Convert this dataframe to an interactive table.\"\n",
              "            style=\"display:none;\">\n",
              "\n",
              "  <svg xmlns=\"http://www.w3.org/2000/svg\" height=\"24px\" viewBox=\"0 -960 960 960\">\n",
              "    <path d=\"M120-120v-720h720v720H120Zm60-500h600v-160H180v160Zm220 220h160v-160H400v160Zm0 220h160v-160H400v160ZM180-400h160v-160H180v160Zm440 0h160v-160H620v160ZM180-180h160v-160H180v160Zm440 0h160v-160H620v160Z\"/>\n",
              "  </svg>\n",
              "    </button>\n",
              "\n",
              "  <style>\n",
              "    .colab-df-container {\n",
              "      display:flex;\n",
              "      gap: 12px;\n",
              "    }\n",
              "\n",
              "    .colab-df-convert {\n",
              "      background-color: #E8F0FE;\n",
              "      border: none;\n",
              "      border-radius: 50%;\n",
              "      cursor: pointer;\n",
              "      display: none;\n",
              "      fill: #1967D2;\n",
              "      height: 32px;\n",
              "      padding: 0 0 0 0;\n",
              "      width: 32px;\n",
              "    }\n",
              "\n",
              "    .colab-df-convert:hover {\n",
              "      background-color: #E2EBFA;\n",
              "      box-shadow: 0px 1px 2px rgba(60, 64, 67, 0.3), 0px 1px 3px 1px rgba(60, 64, 67, 0.15);\n",
              "      fill: #174EA6;\n",
              "    }\n",
              "\n",
              "    .colab-df-buttons div {\n",
              "      margin-bottom: 4px;\n",
              "    }\n",
              "\n",
              "    [theme=dark] .colab-df-convert {\n",
              "      background-color: #3B4455;\n",
              "      fill: #D2E3FC;\n",
              "    }\n",
              "\n",
              "    [theme=dark] .colab-df-convert:hover {\n",
              "      background-color: #434B5C;\n",
              "      box-shadow: 0px 1px 3px 1px rgba(0, 0, 0, 0.15);\n",
              "      filter: drop-shadow(0px 1px 2px rgba(0, 0, 0, 0.3));\n",
              "      fill: #FFFFFF;\n",
              "    }\n",
              "  </style>\n",
              "\n",
              "    <script>\n",
              "      const buttonEl =\n",
              "        document.querySelector('#df-353aeff3-04da-472c-9166-3efd5b85b394 button.colab-df-convert');\n",
              "      buttonEl.style.display =\n",
              "        google.colab.kernel.accessAllowed ? 'block' : 'none';\n",
              "\n",
              "      async function convertToInteractive(key) {\n",
              "        const element = document.querySelector('#df-353aeff3-04da-472c-9166-3efd5b85b394');\n",
              "        const dataTable =\n",
              "          await google.colab.kernel.invokeFunction('convertToInteractive',\n",
              "                                                    [key], {});\n",
              "        if (!dataTable) return;\n",
              "\n",
              "        const docLinkHtml = 'Like what you see? Visit the ' +\n",
              "          '<a target=\"_blank\" href=https://colab.research.google.com/notebooks/data_table.ipynb>data table notebook</a>'\n",
              "          + ' to learn more about interactive tables.';\n",
              "        element.innerHTML = '';\n",
              "        dataTable['output_type'] = 'display_data';\n",
              "        await google.colab.output.renderOutput(dataTable, element);\n",
              "        const docLink = document.createElement('div');\n",
              "        docLink.innerHTML = docLinkHtml;\n",
              "        element.appendChild(docLink);\n",
              "      }\n",
              "    </script>\n",
              "  </div>\n",
              "\n",
              "\n",
              "<div id=\"df-a483d349-1370-4944-83a8-735a19b28b62\">\n",
              "  <button class=\"colab-df-quickchart\" onclick=\"quickchart('df-a483d349-1370-4944-83a8-735a19b28b62')\"\n",
              "            title=\"Suggest charts\"\n",
              "            style=\"display:none;\">\n",
              "\n",
              "<svg xmlns=\"http://www.w3.org/2000/svg\" height=\"24px\"viewBox=\"0 0 24 24\"\n",
              "     width=\"24px\">\n",
              "    <g>\n",
              "        <path d=\"M19 3H5c-1.1 0-2 .9-2 2v14c0 1.1.9 2 2 2h14c1.1 0 2-.9 2-2V5c0-1.1-.9-2-2-2zM9 17H7v-7h2v7zm4 0h-2V7h2v10zm4 0h-2v-4h2v4z\"/>\n",
              "    </g>\n",
              "</svg>\n",
              "  </button>\n",
              "\n",
              "<style>\n",
              "  .colab-df-quickchart {\n",
              "      --bg-color: #E8F0FE;\n",
              "      --fill-color: #1967D2;\n",
              "      --hover-bg-color: #E2EBFA;\n",
              "      --hover-fill-color: #174EA6;\n",
              "      --disabled-fill-color: #AAA;\n",
              "      --disabled-bg-color: #DDD;\n",
              "  }\n",
              "\n",
              "  [theme=dark] .colab-df-quickchart {\n",
              "      --bg-color: #3B4455;\n",
              "      --fill-color: #D2E3FC;\n",
              "      --hover-bg-color: #434B5C;\n",
              "      --hover-fill-color: #FFFFFF;\n",
              "      --disabled-bg-color: #3B4455;\n",
              "      --disabled-fill-color: #666;\n",
              "  }\n",
              "\n",
              "  .colab-df-quickchart {\n",
              "    background-color: var(--bg-color);\n",
              "    border: none;\n",
              "    border-radius: 50%;\n",
              "    cursor: pointer;\n",
              "    display: none;\n",
              "    fill: var(--fill-color);\n",
              "    height: 32px;\n",
              "    padding: 0;\n",
              "    width: 32px;\n",
              "  }\n",
              "\n",
              "  .colab-df-quickchart:hover {\n",
              "    background-color: var(--hover-bg-color);\n",
              "    box-shadow: 0 1px 2px rgba(60, 64, 67, 0.3), 0 1px 3px 1px rgba(60, 64, 67, 0.15);\n",
              "    fill: var(--button-hover-fill-color);\n",
              "  }\n",
              "\n",
              "  .colab-df-quickchart-complete:disabled,\n",
              "  .colab-df-quickchart-complete:disabled:hover {\n",
              "    background-color: var(--disabled-bg-color);\n",
              "    fill: var(--disabled-fill-color);\n",
              "    box-shadow: none;\n",
              "  }\n",
              "\n",
              "  .colab-df-spinner {\n",
              "    border: 2px solid var(--fill-color);\n",
              "    border-color: transparent;\n",
              "    border-bottom-color: var(--fill-color);\n",
              "    animation:\n",
              "      spin 1s steps(1) infinite;\n",
              "  }\n",
              "\n",
              "  @keyframes spin {\n",
              "    0% {\n",
              "      border-color: transparent;\n",
              "      border-bottom-color: var(--fill-color);\n",
              "      border-left-color: var(--fill-color);\n",
              "    }\n",
              "    20% {\n",
              "      border-color: transparent;\n",
              "      border-left-color: var(--fill-color);\n",
              "      border-top-color: var(--fill-color);\n",
              "    }\n",
              "    30% {\n",
              "      border-color: transparent;\n",
              "      border-left-color: var(--fill-color);\n",
              "      border-top-color: var(--fill-color);\n",
              "      border-right-color: var(--fill-color);\n",
              "    }\n",
              "    40% {\n",
              "      border-color: transparent;\n",
              "      border-right-color: var(--fill-color);\n",
              "      border-top-color: var(--fill-color);\n",
              "    }\n",
              "    60% {\n",
              "      border-color: transparent;\n",
              "      border-right-color: var(--fill-color);\n",
              "    }\n",
              "    80% {\n",
              "      border-color: transparent;\n",
              "      border-right-color: var(--fill-color);\n",
              "      border-bottom-color: var(--fill-color);\n",
              "    }\n",
              "    90% {\n",
              "      border-color: transparent;\n",
              "      border-bottom-color: var(--fill-color);\n",
              "    }\n",
              "  }\n",
              "</style>\n",
              "\n",
              "  <script>\n",
              "    async function quickchart(key) {\n",
              "      const quickchartButtonEl =\n",
              "        document.querySelector('#' + key + ' button');\n",
              "      quickchartButtonEl.disabled = true;  // To prevent multiple clicks.\n",
              "      quickchartButtonEl.classList.add('colab-df-spinner');\n",
              "      try {\n",
              "        const charts = await google.colab.kernel.invokeFunction(\n",
              "            'suggestCharts', [key], {});\n",
              "      } catch (error) {\n",
              "        console.error('Error during call to suggestCharts:', error);\n",
              "      }\n",
              "      quickchartButtonEl.classList.remove('colab-df-spinner');\n",
              "      quickchartButtonEl.classList.add('colab-df-quickchart-complete');\n",
              "    }\n",
              "    (() => {\n",
              "      let quickchartButtonEl =\n",
              "        document.querySelector('#df-a483d349-1370-4944-83a8-735a19b28b62 button');\n",
              "      quickchartButtonEl.style.display =\n",
              "        google.colab.kernel.accessAllowed ? 'block' : 'none';\n",
              "    })();\n",
              "  </script>\n",
              "</div>\n",
              "\n",
              "  <div id=\"id_c578baa8-b06c-48ff-be05-c263dc0f33ba\">\n",
              "    <style>\n",
              "      .colab-df-generate {\n",
              "        background-color: #E8F0FE;\n",
              "        border: none;\n",
              "        border-radius: 50%;\n",
              "        cursor: pointer;\n",
              "        display: none;\n",
              "        fill: #1967D2;\n",
              "        height: 32px;\n",
              "        padding: 0 0 0 0;\n",
              "        width: 32px;\n",
              "      }\n",
              "\n",
              "      .colab-df-generate:hover {\n",
              "        background-color: #E2EBFA;\n",
              "        box-shadow: 0px 1px 2px rgba(60, 64, 67, 0.3), 0px 1px 3px 1px rgba(60, 64, 67, 0.15);\n",
              "        fill: #174EA6;\n",
              "      }\n",
              "\n",
              "      [theme=dark] .colab-df-generate {\n",
              "        background-color: #3B4455;\n",
              "        fill: #D2E3FC;\n",
              "      }\n",
              "\n",
              "      [theme=dark] .colab-df-generate:hover {\n",
              "        background-color: #434B5C;\n",
              "        box-shadow: 0px 1px 3px 1px rgba(0, 0, 0, 0.15);\n",
              "        filter: drop-shadow(0px 1px 2px rgba(0, 0, 0, 0.3));\n",
              "        fill: #FFFFFF;\n",
              "      }\n",
              "    </style>\n",
              "    <button class=\"colab-df-generate\" onclick=\"generateWithVariable('wage')\"\n",
              "            title=\"Generate code using this dataframe.\"\n",
              "            style=\"display:none;\">\n",
              "\n",
              "  <svg xmlns=\"http://www.w3.org/2000/svg\" height=\"24px\"viewBox=\"0 0 24 24\"\n",
              "       width=\"24px\">\n",
              "    <path d=\"M7,19H8.4L18.45,9,17,7.55,7,17.6ZM5,21V16.75L18.45,3.32a2,2,0,0,1,2.83,0l1.4,1.43a1.91,1.91,0,0,1,.58,1.4,1.91,1.91,0,0,1-.58,1.4L9.25,21ZM18.45,9,17,7.55Zm-12,3A5.31,5.31,0,0,0,4.9,8.1,5.31,5.31,0,0,0,1,6.5,5.31,5.31,0,0,0,4.9,4.9,5.31,5.31,0,0,0,6.5,1,5.31,5.31,0,0,0,8.1,4.9,5.31,5.31,0,0,0,12,6.5,5.46,5.46,0,0,0,6.5,12Z\"/>\n",
              "  </svg>\n",
              "    </button>\n",
              "    <script>\n",
              "      (() => {\n",
              "      const buttonEl =\n",
              "        document.querySelector('#id_c578baa8-b06c-48ff-be05-c263dc0f33ba button.colab-df-generate');\n",
              "      buttonEl.style.display =\n",
              "        google.colab.kernel.accessAllowed ? 'block' : 'none';\n",
              "\n",
              "      buttonEl.onclick = () => {\n",
              "        google.colab.notebook.generateWithVariable('wage');\n",
              "      }\n",
              "      })();\n",
              "    </script>\n",
              "  </div>\n",
              "\n",
              "    </div>\n",
              "  </div>\n"
            ],
            "application/vnd.google.colaboratory.intrinsic+json": {
              "type": "dataframe",
              "variable_name": "wage",
              "summary": "{\n  \"name\": \"wage\",\n  \"rows\": 332,\n  \"fields\": [\n    {\n      \"column\": \"YEAR\",\n      \"properties\": {\n        \"dtype\": \"object\",\n        \"num_unique_values\": 2,\n        \"samples\": [\n          \"1981\",\n          \"1978\"\n        ],\n        \"semantic_type\": \"\",\n        \"description\": \"\"\n      }\n    },\n    {\n      \"column\": \"AGE\",\n      \"properties\": {\n        \"dtype\": \"number\",\n        \"std\": 22,\n        \"min\": 0,\n        \"max\": 80,\n        \"num_unique_values\": 50,\n        \"samples\": [\n          4,\n          30\n        ],\n        \"semantic_type\": \"\",\n        \"description\": \"\"\n      }\n    },\n    {\n      \"column\": \"DISTANCE_BUS\",\n      \"properties\": {\n        \"dtype\": \"number\",\n        \"std\": 8963.967309924168,\n        \"min\": 1000.0,\n        \"max\": 35000.0,\n        \"num_unique_values\": 34,\n        \"samples\": [\n          24000.0,\n          12000.0\n        ],\n        \"semantic_type\": \"\",\n        \"description\": \"\"\n      }\n    },\n    {\n      \"column\": \"DISTANCE_INTERSTATE\",\n      \"properties\": {\n        \"dtype\": \"number\",\n        \"std\": 9019.981297481894,\n        \"min\": 1000.0,\n        \"max\": 34000.0,\n        \"num_unique_values\": 34,\n        \"samples\": [\n          28000.0,\n          31000.0\n        ],\n        \"semantic_type\": \"\",\n        \"description\": \"\"\n      }\n    },\n    {\n      \"column\": \"PRICE\",\n      \"properties\": {\n        \"dtype\": \"number\",\n        \"std\": 42329.089483831995,\n        \"min\": 31000.0,\n        \"max\": 300000.0,\n        \"num_unique_values\": 174,\n        \"samples\": [\n          143000.0,\n          38500.0\n        ],\n        \"semantic_type\": \"\",\n        \"description\": \"\"\n      }\n    },\n    {\n      \"column\": \"ROOMS\",\n      \"properties\": {\n        \"dtype\": \"number\",\n        \"std\": 0,\n        \"min\": 4,\n        \"max\": 10,\n        \"num_unique_values\": 7,\n        \"samples\": [\n          7,\n          6\n        ],\n        \"semantic_type\": \"\",\n        \"description\": \"\"\n      }\n    },\n    {\n      \"column\": \"AREA\",\n      \"properties\": {\n        \"dtype\": \"number\",\n        \"std\": 692,\n        \"min\": 735,\n        \"max\": 5136,\n        \"num_unique_values\": 253,\n        \"samples\": [\n          1556,\n          2464\n        ],\n        \"semantic_type\": \"\",\n        \"description\": \"\"\n      }\n    },\n    {\n      \"column\": \"LAND\",\n      \"properties\": {\n        \"dtype\": \"number\",\n        \"std\": 39192.85716352746,\n        \"min\": 1710.0,\n        \"max\": 544500.0,\n        \"num_unique_values\": 215,\n        \"samples\": [\n          42688.0,\n          5153.0\n        ],\n        \"semantic_type\": \"\",\n        \"description\": \"\"\n      }\n    },\n    {\n      \"column\": \"BATHS\",\n      \"properties\": {\n        \"dtype\": \"number\",\n        \"std\": 0,\n        \"min\": 1,\n        \"max\": 4,\n        \"num_unique_values\": 4,\n        \"samples\": [\n          3,\n          4\n        ],\n        \"semantic_type\": \"\",\n        \"description\": \"\"\n      }\n    }\n  ]\n}"
            }
          },
          "metadata": {},
          "execution_count": 21
        }
      ]
    },
    {
      "cell_type": "code",
      "source": [
        "wage['AGE'].unique()"
      ],
      "metadata": {
        "colab": {
          "base_uri": "https://localhost:8080/"
        },
        "id": "frIqUTyYsJvO",
        "outputId": "e9e292e4-ddb6-4356-c8cb-ea49f7648b4a"
      },
      "execution_count": 22,
      "outputs": [
        {
          "output_type": "execute_result",
          "data": {
            "text/plain": [
              "array([ 1,  7, 31,  2,  0,  8, 20, 19, 28, 68, 21, 11, 17,  4, 10, 41,  9,\n",
              "       12, 15, 26, 25, 56, 80,  3, 70, 58, 78, 13,  6, 39, 23, 38, 54, 22,\n",
              "       48, 51, 18,  5, 24, 30, 14, 16, 42, 29, 36, 59, 71, 65, 33, 32])"
            ]
          },
          "metadata": {},
          "execution_count": 22
        }
      ]
    },
    {
      "cell_type": "code",
      "source": [
        "wage['DISTANCE_BUS'].unique()"
      ],
      "metadata": {
        "colab": {
          "base_uri": "https://localhost:8080/"
        },
        "id": "gN5BcXnp87rS",
        "outputId": "4b6e8890-1c01-4efe-c4dd-4c8d73699e9d"
      },
      "execution_count": 23,
      "outputs": [
        {
          "output_type": "execute_result",
          "data": {
            "text/plain": [
              "array([30000., 22000.,  3000., 15000., 10000., 25000., 17000., 21000.,\n",
              "        7000.,  5000., 14000., 23000.,  4000., 11000., 27000., 24000.,\n",
              "       13000.,  6000.,  2000., 12000., 16000., 31000.,  9000., 26000.,\n",
              "       18000., 19000.,  8000., 29000., 28000., 20000., 32000., 33000.,\n",
              "        1000., 35000.])"
            ]
          },
          "metadata": {},
          "execution_count": 23
        }
      ]
    },
    {
      "cell_type": "code",
      "source": [
        "wage['DISTANCE_INTERSTATE'].unique()"
      ],
      "metadata": {
        "colab": {
          "base_uri": "https://localhost:8080/"
        },
        "id": "DEV9KWsV9Dna",
        "outputId": "db0d5a4d-c86f-4b22-aa59-e7326c6698ea"
      },
      "execution_count": 24,
      "outputs": [
        {
          "output_type": "execute_result",
          "data": {
            "text/plain": [
              "array([30000., 22000.,  2000., 17000., 13000., 25000., 21000.,  7000.,\n",
              "       24000.,  4000.,  6000.,  8000., 15000., 23000., 10000., 28000.,\n",
              "       26000., 16000., 14000., 31000.,  5000.,  1000., 12000., 19000.,\n",
              "       32000.,  3000., 29000., 18000.,  9000., 20000., 11000., 33000.,\n",
              "       34000., 27000.])"
            ]
          },
          "metadata": {},
          "execution_count": 24
        }
      ]
    },
    {
      "cell_type": "code",
      "source": [
        "wage = wage.dropna(subset=['PRICE'])"
      ],
      "metadata": {
        "id": "9UuQwnOs9L1V"
      },
      "execution_count": 27,
      "outputs": []
    },
    {
      "cell_type": "code",
      "source": [
        "wage['PRICE'].unique()"
      ],
      "metadata": {
        "colab": {
          "base_uri": "https://localhost:8080/"
        },
        "id": "1wH-5DEk9Rec",
        "outputId": "f827fbea-b662-45b1-84b0-dd7ab75c2a1e"
      },
      "execution_count": 28,
      "outputs": [
        {
          "output_type": "execute_result",
          "data": {
            "text/plain": [
              "array([ 75900., 140000.,  68000., 216000., 125000.,  95920.,  85000.,\n",
              "        86000., 119600.,  73900.,  53000.,  49000.,  84211., 153000.,\n",
              "        65000., 110000.,  91000., 143500.,  73000., 135900., 194000.,\n",
              "       100000.,  54000., 120000., 130500.,  61000.,  71500.,  40000.,\n",
              "       189857.,  32000., 113500., 109900.,  85500., 148000.,  59000.,\n",
              "        34000.,  66479.,  48000.,  46000.,  75000.,  44900.,  77500.,\n",
              "        96900.,  83000., 145000.,  79900., 103900., 169000.,  62500.,\n",
              "       107900.,  47000.,  89912., 142000.,  80000.,  56900.,  75500.,\n",
              "        90000., 121000.,  53500.,  94900., 160000.,  96750.,  64000.,\n",
              "        70400.,  79000.,  77000.,  84900.,  36000.,  62000., 150000.,\n",
              "        43500., 131500.,  52900., 115000.,  95900., 128000.,  87000.,\n",
              "        66900.,  76900., 130000., 141000.,  37500.,  97000.,  98000.,\n",
              "       124500., 129900., 123000.,  63900., 118000., 167950., 135000.,\n",
              "       117500.,  61900., 204080., 106000.,  97900., 117000.,  46500.,\n",
              "       162000.,  94376.,  63400.,  63000.,  90500.,  74000., 106500.,\n",
              "        89500.,  82000.,  72900., 132000.,  90400., 119900., 133500.,\n",
              "        78400.,  72500.,  60000., 175000.,  95000., 109500., 180000.,\n",
              "       156500.,  70500.,  60500.,  94000.,  68500.,  87500., 102000.,\n",
              "        67000.,  93000., 155500., 155000.,  66500.,  49500.,  50000.,\n",
              "        44000.,  62400.,  74500.,  83900., 105000.,  85900., 185000.,\n",
              "       101100.,  41000.,  80900.,  92900.,  38500.,  88000., 172267.,\n",
              "       168000., 144500.,  70000.,  56000.,  52000., 300000.,  50900.,\n",
              "        31000., 143000., 182095.,  66100., 177755., 156900., 220000.,\n",
              "        83500.,  66000.,  67500., 173500.,  84300.,  55000.,  79500.,\n",
              "       234552.,  57000., 169900., 158000.,  64900.,  58000.])"
            ]
          },
          "metadata": {},
          "execution_count": 28
        }
      ]
    },
    {
      "cell_type": "code",
      "source": [
        "wage['PRICE'].unique()"
      ],
      "metadata": {
        "colab": {
          "base_uri": "https://localhost:8080/"
        },
        "id": "R7QUps-KclQ9",
        "outputId": "31df6bac-54bd-45ab-d9f2-4adf015c8a27"
      },
      "execution_count": 29,
      "outputs": [
        {
          "output_type": "execute_result",
          "data": {
            "text/plain": [
              "array([ 75900., 140000.,  68000., 216000., 125000.,  95920.,  85000.,\n",
              "        86000., 119600.,  73900.,  53000.,  49000.,  84211., 153000.,\n",
              "        65000., 110000.,  91000., 143500.,  73000., 135900., 194000.,\n",
              "       100000.,  54000., 120000., 130500.,  61000.,  71500.,  40000.,\n",
              "       189857.,  32000., 113500., 109900.,  85500., 148000.,  59000.,\n",
              "        34000.,  66479.,  48000.,  46000.,  75000.,  44900.,  77500.,\n",
              "        96900.,  83000., 145000.,  79900., 103900., 169000.,  62500.,\n",
              "       107900.,  47000.,  89912., 142000.,  80000.,  56900.,  75500.,\n",
              "        90000., 121000.,  53500.,  94900., 160000.,  96750.,  64000.,\n",
              "        70400.,  79000.,  77000.,  84900.,  36000.,  62000., 150000.,\n",
              "        43500., 131500.,  52900., 115000.,  95900., 128000.,  87000.,\n",
              "        66900.,  76900., 130000., 141000.,  37500.,  97000.,  98000.,\n",
              "       124500., 129900., 123000.,  63900., 118000., 167950., 135000.,\n",
              "       117500.,  61900., 204080., 106000.,  97900., 117000.,  46500.,\n",
              "       162000.,  94376.,  63400.,  63000.,  90500.,  74000., 106500.,\n",
              "        89500.,  82000.,  72900., 132000.,  90400., 119900., 133500.,\n",
              "        78400.,  72500.,  60000., 175000.,  95000., 109500., 180000.,\n",
              "       156500.,  70500.,  60500.,  94000.,  68500.,  87500., 102000.,\n",
              "        67000.,  93000., 155500., 155000.,  66500.,  49500.,  50000.,\n",
              "        44000.,  62400.,  74500.,  83900., 105000.,  85900., 185000.,\n",
              "       101100.,  41000.,  80900.,  92900.,  38500.,  88000., 172267.,\n",
              "       168000., 144500.,  70000.,  56000.,  52000., 300000.,  50900.,\n",
              "        31000., 143000., 182095.,  66100., 177755., 156900., 220000.,\n",
              "        83500.,  66000.,  67500., 173500.,  84300.,  55000.,  79500.,\n",
              "       234552.,  57000., 169900., 158000.,  64900.,  58000.])"
            ]
          },
          "metadata": {},
          "execution_count": 29
        }
      ]
    },
    {
      "cell_type": "code",
      "source": [
        "wage['ROOMS'].unique()"
      ],
      "metadata": {
        "colab": {
          "base_uri": "https://localhost:8080/"
        },
        "id": "qiTwMEY-9TFX",
        "outputId": "616ae65b-b97d-480f-8263-8449b4236638"
      },
      "execution_count": 30,
      "outputs": [
        {
          "output_type": "execute_result",
          "data": {
            "text/plain": [
              "array([ 7,  6,  8,  5,  9, 10,  4])"
            ]
          },
          "metadata": {},
          "execution_count": 30
        }
      ]
    },
    {
      "cell_type": "code",
      "source": [
        "wage['AREA'].unique()"
      ],
      "metadata": {
        "colab": {
          "base_uri": "https://localhost:8080/"
        },
        "id": "IViD0zFy9Zhj",
        "outputId": "50fd89da-56ec-48e8-98aa-32690d9b13ad"
      },
      "execution_count": 31,
      "outputs": [
        {
          "output_type": "execute_result",
          "data": {
            "text/plain": [
              "array([1836, 1800, 3304, 2548, 2208, 2464, 2004, 1425, 2701, 1592, 1875,\n",
              "       2756, 2656, 2727, 2204, 2263, 2144, 1390, 2377, 3170, 2252, 1700,\n",
              "       3030, 2330, 2106, 1928,  912, 1867, 1554, 3396, 2112, 2171, 2000,\n",
              "       1855, 2632, 2544, 2736, 2458, 1144, 1104, 1038, 1261, 1537, 1780,\n",
              "        960, 1998, 2952, 2574, 1182, 1570, 2569, 1540, 1910, 1978, 3292,\n",
              "       3460, 1456, 2576, 3726, 3861, 1838, 1684, 2032, 1344, 1728, 1820,\n",
              "       2052, 2510, 1333, 2384, 3152, 2738, 2092, 1242, 1764, 1342, 1792,\n",
              "       5136, 1360, 2082, 2071, 1318, 2528, 2612, 3132, 1490, 2598, 1716,\n",
              "       1199, 1848, 2450, 1920, 1750, 2644, 1080, 2920, 1464, 2346, 2136,\n",
              "       3792, 3398, 2056, 2872, 1136, 1991, 2472, 1476, 2016, 1411, 2794,\n",
              "       2261, 2502, 1633, 2836, 1226, 1296, 3232, 2800, 1357, 1587, 2878,\n",
              "       1235, 2240, 1964, 2080, 2796, 2650, 2258, 1421, 1731, 2648, 1862,\n",
              "       1482, 1388, 3055, 2238, 4056, 2780, 2744, 1232, 1148, 1842, 1560,\n",
              "       1642, 2290, 1377, 3256, 3798,  990,  970, 2514, 2610, 2688, 1166,\n",
              "       1100, 2248, 1399, 1536, 1869, 2036, 2364, 1818, 1962, 2400, 2089,\n",
              "       2996, 1660, 2276, 1531, 5078, 1924, 1197, 2856, 1746,  936, 2370,\n",
              "       1556, 2327, 2826, 2486, 3140, 1830, 1454, 2352, 1575, 3770,  930,\n",
              "       2128, 1215,  925, 1868, 1274, 1566, 3074, 1760, 3040, 1290, 2038,\n",
              "       1844, 1358, 2900, 2104, 1443, 2216, 3252, 1320, 1410, 2436, 2832,\n",
              "       2627, 1140, 1356])"
            ]
          },
          "metadata": {},
          "execution_count": 31
        }
      ]
    },
    {
      "cell_type": "code",
      "source": [
        "wage['LAND'].unique()"
      ],
      "metadata": {
        "colab": {
          "base_uri": "https://localhost:8080/"
        },
        "id": "K4JhhBLJ9bwV",
        "outputId": "fa3afb46-a0d9-4963-98dc-fd1095b1489e"
      },
      "execution_count": 32,
      "outputs": [
        {
          "output_type": "execute_result",
          "data": {
            "text/plain": [
              "array([ 45738.,  44867.,  18731.,  46174.,  48269.,  44080.,  19550.,\n",
              "        48787.,  13068.,  12700.,   9790.,  27205.,  43996.,  45302.,\n",
              "        10019.,  12806.,  46100.,  43560.,  44000.,   7500.,  47916.,\n",
              "        43995.,  13030.,  13370., 157252.,  12005.,   5000.,   6790.,\n",
              "        31412.,  12500.,  44064.,  43569.,  50965.,  64904.,  26726.,\n",
              "         9400.,  15512.,  15431.,  10000.,  48352.,   9500.,  51690.,\n",
              "       147668.,  41463.,  44247.,   8790.,  20909.,  35121.,  11421.,\n",
              "        18215.,  12568.,  43935.,  35284.,  51062.,   9249.,  81273.,\n",
              "        10993.,  78408.,  31915.,  11883.,  51835.,  47045.,  23087.,\n",
              "        86249.,   8500.,  43561.,  45106.,  43910.,  43958.,   9665.,\n",
              "        20550.,  44431.,   8370.,  26136.,  45500.,  54450.,  46300.,\n",
              "        50808.,  44260.,  12516.,  52272.,  29129.,  35942.,  63260.,\n",
              "        65340., 104544.,  12632.,  52708.,  34879.,  15664.,  44900.,\n",
              "        15246.,  45465.,  34666.,  17728.,  46609.,  37046.,  32255.,\n",
              "        94961.,  25380.,  69260.,  54014.,   5957.,  95832.,  25182.,\n",
              "        25000.,  43757.,  21120.,  14810.,  53000.,  25265.,  25690.,\n",
              "        69465.,  59790.,  77101.,  31215.,  30945.,  45000.,  44182.,\n",
              "        29130.,  44864.,   7000.,  25250.,  12877.,  50045.,   1710.,\n",
              "        11104.,  28688.,   9770.,  38768.,  49829.,  10491.,  51836.,\n",
              "        55321.,  67954.,  56392.,  44465.,  16935.,   4578.,   3049.,\n",
              "       132422.,  29955.,  13504.,   8276.,  49737.,   3870.,  35538.,\n",
              "        46598.,  30808.,  31059.,  13939.,   5500.,  26890.,  10878.,\n",
              "         3485., 282704.,   8185.,  44174.,   4585.,   7858.,  10938.,\n",
              "        49223.,  25159.,  32670.,  46600.,  45973.,  43908.,  29621.,\n",
              "        12538.,  30894.,  42688.,  92783.,  44775.,  68689.,   7950.,\n",
              "        29671.,  64033.,   4500.,  29226.,  46422.,  13945., 544500.])"
            ]
          },
          "metadata": {},
          "execution_count": 32
        }
      ]
    },
    {
      "cell_type": "code",
      "source": [
        "wage['BATHS'].unique()"
      ],
      "metadata": {
        "colab": {
          "base_uri": "https://localhost:8080/"
        },
        "id": "rBKRDEJ29h_Q",
        "outputId": "557b1e65-3b88-4e7d-fbd1-9ee93a5368bf"
      },
      "execution_count": 33,
      "outputs": [
        {
          "output_type": "execute_result",
          "data": {
            "text/plain": [
              "array([2, 3, 1, 4])"
            ]
          },
          "metadata": {},
          "execution_count": 33
        }
      ]
    },
    {
      "cell_type": "code",
      "source": [
        "wage\n"
      ],
      "metadata": {
        "colab": {
          "base_uri": "https://localhost:8080/",
          "height": 424
        },
        "id": "hs2GyE2KYRQI",
        "outputId": "18e308d7-fdea-4e2f-f981-cbd1ed91831d"
      },
      "execution_count": 34,
      "outputs": [
        {
          "output_type": "execute_result",
          "data": {
            "text/plain": [
              "     YEAR  AGE  DISTANCE_BUS  DISTANCE_INTERSTATE     PRICE  ROOMS  AREA  \\\n",
              "0    1978    1       30000.0              30000.0   75900.0      7  1836   \n",
              "1    1981    7       22000.0              22000.0  140000.0      6  1800   \n",
              "2    1981   31        3000.0               2000.0   68000.0      6  3304   \n",
              "4    1981    0       10000.0              13000.0  216000.0      7  2548   \n",
              "5    1981    0       25000.0              25000.0  125000.0      7  2208   \n",
              "..    ...  ...           ...                  ...       ...    ...   ...   \n",
              "326  1981    2       20000.0              20000.0  158000.0      7  2627   \n",
              "327  1981   51        2000.0               5000.0   50000.0      5  1140   \n",
              "328  1981    1       22000.0              24000.0  162000.0      7  2656   \n",
              "329  1978    3       12000.0              12000.0   64900.0      7  2856   \n",
              "330  1978   26       20000.0              22000.0   58000.0      6  1356   \n",
              "\n",
              "         LAND  BATHS  \n",
              "0     45738.0      2  \n",
              "1     44867.0      3  \n",
              "2     18731.0      2  \n",
              "4     46174.0      3  \n",
              "5     45738.0      3  \n",
              "..        ...    ...  \n",
              "326   43560.0      3  \n",
              "327   13945.0      1  \n",
              "328   45302.0      3  \n",
              "329   29955.0      2  \n",
              "330  544500.0      2  \n",
              "\n",
              "[262 rows x 9 columns]"
            ],
            "text/html": [
              "\n",
              "  <div id=\"df-576f5e22-3e31-4f38-a9b4-0e47c27ecaf4\" class=\"colab-df-container\">\n",
              "    <div>\n",
              "<style scoped>\n",
              "    .dataframe tbody tr th:only-of-type {\n",
              "        vertical-align: middle;\n",
              "    }\n",
              "\n",
              "    .dataframe tbody tr th {\n",
              "        vertical-align: top;\n",
              "    }\n",
              "\n",
              "    .dataframe thead th {\n",
              "        text-align: right;\n",
              "    }\n",
              "</style>\n",
              "<table border=\"1\" class=\"dataframe\">\n",
              "  <thead>\n",
              "    <tr style=\"text-align: right;\">\n",
              "      <th></th>\n",
              "      <th>YEAR</th>\n",
              "      <th>AGE</th>\n",
              "      <th>DISTANCE_BUS</th>\n",
              "      <th>DISTANCE_INTERSTATE</th>\n",
              "      <th>PRICE</th>\n",
              "      <th>ROOMS</th>\n",
              "      <th>AREA</th>\n",
              "      <th>LAND</th>\n",
              "      <th>BATHS</th>\n",
              "    </tr>\n",
              "  </thead>\n",
              "  <tbody>\n",
              "    <tr>\n",
              "      <th>0</th>\n",
              "      <td>1978</td>\n",
              "      <td>1</td>\n",
              "      <td>30000.0</td>\n",
              "      <td>30000.0</td>\n",
              "      <td>75900.0</td>\n",
              "      <td>7</td>\n",
              "      <td>1836</td>\n",
              "      <td>45738.0</td>\n",
              "      <td>2</td>\n",
              "    </tr>\n",
              "    <tr>\n",
              "      <th>1</th>\n",
              "      <td>1981</td>\n",
              "      <td>7</td>\n",
              "      <td>22000.0</td>\n",
              "      <td>22000.0</td>\n",
              "      <td>140000.0</td>\n",
              "      <td>6</td>\n",
              "      <td>1800</td>\n",
              "      <td>44867.0</td>\n",
              "      <td>3</td>\n",
              "    </tr>\n",
              "    <tr>\n",
              "      <th>2</th>\n",
              "      <td>1981</td>\n",
              "      <td>31</td>\n",
              "      <td>3000.0</td>\n",
              "      <td>2000.0</td>\n",
              "      <td>68000.0</td>\n",
              "      <td>6</td>\n",
              "      <td>3304</td>\n",
              "      <td>18731.0</td>\n",
              "      <td>2</td>\n",
              "    </tr>\n",
              "    <tr>\n",
              "      <th>4</th>\n",
              "      <td>1981</td>\n",
              "      <td>0</td>\n",
              "      <td>10000.0</td>\n",
              "      <td>13000.0</td>\n",
              "      <td>216000.0</td>\n",
              "      <td>7</td>\n",
              "      <td>2548</td>\n",
              "      <td>46174.0</td>\n",
              "      <td>3</td>\n",
              "    </tr>\n",
              "    <tr>\n",
              "      <th>5</th>\n",
              "      <td>1981</td>\n",
              "      <td>0</td>\n",
              "      <td>25000.0</td>\n",
              "      <td>25000.0</td>\n",
              "      <td>125000.0</td>\n",
              "      <td>7</td>\n",
              "      <td>2208</td>\n",
              "      <td>45738.0</td>\n",
              "      <td>3</td>\n",
              "    </tr>\n",
              "    <tr>\n",
              "      <th>...</th>\n",
              "      <td>...</td>\n",
              "      <td>...</td>\n",
              "      <td>...</td>\n",
              "      <td>...</td>\n",
              "      <td>...</td>\n",
              "      <td>...</td>\n",
              "      <td>...</td>\n",
              "      <td>...</td>\n",
              "      <td>...</td>\n",
              "    </tr>\n",
              "    <tr>\n",
              "      <th>326</th>\n",
              "      <td>1981</td>\n",
              "      <td>2</td>\n",
              "      <td>20000.0</td>\n",
              "      <td>20000.0</td>\n",
              "      <td>158000.0</td>\n",
              "      <td>7</td>\n",
              "      <td>2627</td>\n",
              "      <td>43560.0</td>\n",
              "      <td>3</td>\n",
              "    </tr>\n",
              "    <tr>\n",
              "      <th>327</th>\n",
              "      <td>1981</td>\n",
              "      <td>51</td>\n",
              "      <td>2000.0</td>\n",
              "      <td>5000.0</td>\n",
              "      <td>50000.0</td>\n",
              "      <td>5</td>\n",
              "      <td>1140</td>\n",
              "      <td>13945.0</td>\n",
              "      <td>1</td>\n",
              "    </tr>\n",
              "    <tr>\n",
              "      <th>328</th>\n",
              "      <td>1981</td>\n",
              "      <td>1</td>\n",
              "      <td>22000.0</td>\n",
              "      <td>24000.0</td>\n",
              "      <td>162000.0</td>\n",
              "      <td>7</td>\n",
              "      <td>2656</td>\n",
              "      <td>45302.0</td>\n",
              "      <td>3</td>\n",
              "    </tr>\n",
              "    <tr>\n",
              "      <th>329</th>\n",
              "      <td>1978</td>\n",
              "      <td>3</td>\n",
              "      <td>12000.0</td>\n",
              "      <td>12000.0</td>\n",
              "      <td>64900.0</td>\n",
              "      <td>7</td>\n",
              "      <td>2856</td>\n",
              "      <td>29955.0</td>\n",
              "      <td>2</td>\n",
              "    </tr>\n",
              "    <tr>\n",
              "      <th>330</th>\n",
              "      <td>1978</td>\n",
              "      <td>26</td>\n",
              "      <td>20000.0</td>\n",
              "      <td>22000.0</td>\n",
              "      <td>58000.0</td>\n",
              "      <td>6</td>\n",
              "      <td>1356</td>\n",
              "      <td>544500.0</td>\n",
              "      <td>2</td>\n",
              "    </tr>\n",
              "  </tbody>\n",
              "</table>\n",
              "<p>262 rows × 9 columns</p>\n",
              "</div>\n",
              "    <div class=\"colab-df-buttons\">\n",
              "\n",
              "  <div class=\"colab-df-container\">\n",
              "    <button class=\"colab-df-convert\" onclick=\"convertToInteractive('df-576f5e22-3e31-4f38-a9b4-0e47c27ecaf4')\"\n",
              "            title=\"Convert this dataframe to an interactive table.\"\n",
              "            style=\"display:none;\">\n",
              "\n",
              "  <svg xmlns=\"http://www.w3.org/2000/svg\" height=\"24px\" viewBox=\"0 -960 960 960\">\n",
              "    <path d=\"M120-120v-720h720v720H120Zm60-500h600v-160H180v160Zm220 220h160v-160H400v160Zm0 220h160v-160H400v160ZM180-400h160v-160H180v160Zm440 0h160v-160H620v160ZM180-180h160v-160H180v160Zm440 0h160v-160H620v160Z\"/>\n",
              "  </svg>\n",
              "    </button>\n",
              "\n",
              "  <style>\n",
              "    .colab-df-container {\n",
              "      display:flex;\n",
              "      gap: 12px;\n",
              "    }\n",
              "\n",
              "    .colab-df-convert {\n",
              "      background-color: #E8F0FE;\n",
              "      border: none;\n",
              "      border-radius: 50%;\n",
              "      cursor: pointer;\n",
              "      display: none;\n",
              "      fill: #1967D2;\n",
              "      height: 32px;\n",
              "      padding: 0 0 0 0;\n",
              "      width: 32px;\n",
              "    }\n",
              "\n",
              "    .colab-df-convert:hover {\n",
              "      background-color: #E2EBFA;\n",
              "      box-shadow: 0px 1px 2px rgba(60, 64, 67, 0.3), 0px 1px 3px 1px rgba(60, 64, 67, 0.15);\n",
              "      fill: #174EA6;\n",
              "    }\n",
              "\n",
              "    .colab-df-buttons div {\n",
              "      margin-bottom: 4px;\n",
              "    }\n",
              "\n",
              "    [theme=dark] .colab-df-convert {\n",
              "      background-color: #3B4455;\n",
              "      fill: #D2E3FC;\n",
              "    }\n",
              "\n",
              "    [theme=dark] .colab-df-convert:hover {\n",
              "      background-color: #434B5C;\n",
              "      box-shadow: 0px 1px 3px 1px rgba(0, 0, 0, 0.15);\n",
              "      filter: drop-shadow(0px 1px 2px rgba(0, 0, 0, 0.3));\n",
              "      fill: #FFFFFF;\n",
              "    }\n",
              "  </style>\n",
              "\n",
              "    <script>\n",
              "      const buttonEl =\n",
              "        document.querySelector('#df-576f5e22-3e31-4f38-a9b4-0e47c27ecaf4 button.colab-df-convert');\n",
              "      buttonEl.style.display =\n",
              "        google.colab.kernel.accessAllowed ? 'block' : 'none';\n",
              "\n",
              "      async function convertToInteractive(key) {\n",
              "        const element = document.querySelector('#df-576f5e22-3e31-4f38-a9b4-0e47c27ecaf4');\n",
              "        const dataTable =\n",
              "          await google.colab.kernel.invokeFunction('convertToInteractive',\n",
              "                                                    [key], {});\n",
              "        if (!dataTable) return;\n",
              "\n",
              "        const docLinkHtml = 'Like what you see? Visit the ' +\n",
              "          '<a target=\"_blank\" href=https://colab.research.google.com/notebooks/data_table.ipynb>data table notebook</a>'\n",
              "          + ' to learn more about interactive tables.';\n",
              "        element.innerHTML = '';\n",
              "        dataTable['output_type'] = 'display_data';\n",
              "        await google.colab.output.renderOutput(dataTable, element);\n",
              "        const docLink = document.createElement('div');\n",
              "        docLink.innerHTML = docLinkHtml;\n",
              "        element.appendChild(docLink);\n",
              "      }\n",
              "    </script>\n",
              "  </div>\n",
              "\n",
              "\n",
              "<div id=\"df-b2b888b1-6eb0-44b4-91cc-7e4da22d24f9\">\n",
              "  <button class=\"colab-df-quickchart\" onclick=\"quickchart('df-b2b888b1-6eb0-44b4-91cc-7e4da22d24f9')\"\n",
              "            title=\"Suggest charts\"\n",
              "            style=\"display:none;\">\n",
              "\n",
              "<svg xmlns=\"http://www.w3.org/2000/svg\" height=\"24px\"viewBox=\"0 0 24 24\"\n",
              "     width=\"24px\">\n",
              "    <g>\n",
              "        <path d=\"M19 3H5c-1.1 0-2 .9-2 2v14c0 1.1.9 2 2 2h14c1.1 0 2-.9 2-2V5c0-1.1-.9-2-2-2zM9 17H7v-7h2v7zm4 0h-2V7h2v10zm4 0h-2v-4h2v4z\"/>\n",
              "    </g>\n",
              "</svg>\n",
              "  </button>\n",
              "\n",
              "<style>\n",
              "  .colab-df-quickchart {\n",
              "      --bg-color: #E8F0FE;\n",
              "      --fill-color: #1967D2;\n",
              "      --hover-bg-color: #E2EBFA;\n",
              "      --hover-fill-color: #174EA6;\n",
              "      --disabled-fill-color: #AAA;\n",
              "      --disabled-bg-color: #DDD;\n",
              "  }\n",
              "\n",
              "  [theme=dark] .colab-df-quickchart {\n",
              "      --bg-color: #3B4455;\n",
              "      --fill-color: #D2E3FC;\n",
              "      --hover-bg-color: #434B5C;\n",
              "      --hover-fill-color: #FFFFFF;\n",
              "      --disabled-bg-color: #3B4455;\n",
              "      --disabled-fill-color: #666;\n",
              "  }\n",
              "\n",
              "  .colab-df-quickchart {\n",
              "    background-color: var(--bg-color);\n",
              "    border: none;\n",
              "    border-radius: 50%;\n",
              "    cursor: pointer;\n",
              "    display: none;\n",
              "    fill: var(--fill-color);\n",
              "    height: 32px;\n",
              "    padding: 0;\n",
              "    width: 32px;\n",
              "  }\n",
              "\n",
              "  .colab-df-quickchart:hover {\n",
              "    background-color: var(--hover-bg-color);\n",
              "    box-shadow: 0 1px 2px rgba(60, 64, 67, 0.3), 0 1px 3px 1px rgba(60, 64, 67, 0.15);\n",
              "    fill: var(--button-hover-fill-color);\n",
              "  }\n",
              "\n",
              "  .colab-df-quickchart-complete:disabled,\n",
              "  .colab-df-quickchart-complete:disabled:hover {\n",
              "    background-color: var(--disabled-bg-color);\n",
              "    fill: var(--disabled-fill-color);\n",
              "    box-shadow: none;\n",
              "  }\n",
              "\n",
              "  .colab-df-spinner {\n",
              "    border: 2px solid var(--fill-color);\n",
              "    border-color: transparent;\n",
              "    border-bottom-color: var(--fill-color);\n",
              "    animation:\n",
              "      spin 1s steps(1) infinite;\n",
              "  }\n",
              "\n",
              "  @keyframes spin {\n",
              "    0% {\n",
              "      border-color: transparent;\n",
              "      border-bottom-color: var(--fill-color);\n",
              "      border-left-color: var(--fill-color);\n",
              "    }\n",
              "    20% {\n",
              "      border-color: transparent;\n",
              "      border-left-color: var(--fill-color);\n",
              "      border-top-color: var(--fill-color);\n",
              "    }\n",
              "    30% {\n",
              "      border-color: transparent;\n",
              "      border-left-color: var(--fill-color);\n",
              "      border-top-color: var(--fill-color);\n",
              "      border-right-color: var(--fill-color);\n",
              "    }\n",
              "    40% {\n",
              "      border-color: transparent;\n",
              "      border-right-color: var(--fill-color);\n",
              "      border-top-color: var(--fill-color);\n",
              "    }\n",
              "    60% {\n",
              "      border-color: transparent;\n",
              "      border-right-color: var(--fill-color);\n",
              "    }\n",
              "    80% {\n",
              "      border-color: transparent;\n",
              "      border-right-color: var(--fill-color);\n",
              "      border-bottom-color: var(--fill-color);\n",
              "    }\n",
              "    90% {\n",
              "      border-color: transparent;\n",
              "      border-bottom-color: var(--fill-color);\n",
              "    }\n",
              "  }\n",
              "</style>\n",
              "\n",
              "  <script>\n",
              "    async function quickchart(key) {\n",
              "      const quickchartButtonEl =\n",
              "        document.querySelector('#' + key + ' button');\n",
              "      quickchartButtonEl.disabled = true;  // To prevent multiple clicks.\n",
              "      quickchartButtonEl.classList.add('colab-df-spinner');\n",
              "      try {\n",
              "        const charts = await google.colab.kernel.invokeFunction(\n",
              "            'suggestCharts', [key], {});\n",
              "      } catch (error) {\n",
              "        console.error('Error during call to suggestCharts:', error);\n",
              "      }\n",
              "      quickchartButtonEl.classList.remove('colab-df-spinner');\n",
              "      quickchartButtonEl.classList.add('colab-df-quickchart-complete');\n",
              "    }\n",
              "    (() => {\n",
              "      let quickchartButtonEl =\n",
              "        document.querySelector('#df-b2b888b1-6eb0-44b4-91cc-7e4da22d24f9 button');\n",
              "      quickchartButtonEl.style.display =\n",
              "        google.colab.kernel.accessAllowed ? 'block' : 'none';\n",
              "    })();\n",
              "  </script>\n",
              "</div>\n",
              "\n",
              "  <div id=\"id_cc244148-7457-47cc-94d2-52693cf9aba3\">\n",
              "    <style>\n",
              "      .colab-df-generate {\n",
              "        background-color: #E8F0FE;\n",
              "        border: none;\n",
              "        border-radius: 50%;\n",
              "        cursor: pointer;\n",
              "        display: none;\n",
              "        fill: #1967D2;\n",
              "        height: 32px;\n",
              "        padding: 0 0 0 0;\n",
              "        width: 32px;\n",
              "      }\n",
              "\n",
              "      .colab-df-generate:hover {\n",
              "        background-color: #E2EBFA;\n",
              "        box-shadow: 0px 1px 2px rgba(60, 64, 67, 0.3), 0px 1px 3px 1px rgba(60, 64, 67, 0.15);\n",
              "        fill: #174EA6;\n",
              "      }\n",
              "\n",
              "      [theme=dark] .colab-df-generate {\n",
              "        background-color: #3B4455;\n",
              "        fill: #D2E3FC;\n",
              "      }\n",
              "\n",
              "      [theme=dark] .colab-df-generate:hover {\n",
              "        background-color: #434B5C;\n",
              "        box-shadow: 0px 1px 3px 1px rgba(0, 0, 0, 0.15);\n",
              "        filter: drop-shadow(0px 1px 2px rgba(0, 0, 0, 0.3));\n",
              "        fill: #FFFFFF;\n",
              "      }\n",
              "    </style>\n",
              "    <button class=\"colab-df-generate\" onclick=\"generateWithVariable('wage')\"\n",
              "            title=\"Generate code using this dataframe.\"\n",
              "            style=\"display:none;\">\n",
              "\n",
              "  <svg xmlns=\"http://www.w3.org/2000/svg\" height=\"24px\"viewBox=\"0 0 24 24\"\n",
              "       width=\"24px\">\n",
              "    <path d=\"M7,19H8.4L18.45,9,17,7.55,7,17.6ZM5,21V16.75L18.45,3.32a2,2,0,0,1,2.83,0l1.4,1.43a1.91,1.91,0,0,1,.58,1.4,1.91,1.91,0,0,1-.58,1.4L9.25,21ZM18.45,9,17,7.55Zm-12,3A5.31,5.31,0,0,0,4.9,8.1,5.31,5.31,0,0,0,1,6.5,5.31,5.31,0,0,0,4.9,4.9,5.31,5.31,0,0,0,6.5,1,5.31,5.31,0,0,0,8.1,4.9,5.31,5.31,0,0,0,12,6.5,5.46,5.46,0,0,0,6.5,12Z\"/>\n",
              "  </svg>\n",
              "    </button>\n",
              "    <script>\n",
              "      (() => {\n",
              "      const buttonEl =\n",
              "        document.querySelector('#id_cc244148-7457-47cc-94d2-52693cf9aba3 button.colab-df-generate');\n",
              "      buttonEl.style.display =\n",
              "        google.colab.kernel.accessAllowed ? 'block' : 'none';\n",
              "\n",
              "      buttonEl.onclick = () => {\n",
              "        google.colab.notebook.generateWithVariable('wage');\n",
              "      }\n",
              "      })();\n",
              "    </script>\n",
              "  </div>\n",
              "\n",
              "    </div>\n",
              "  </div>\n"
            ],
            "application/vnd.google.colaboratory.intrinsic+json": {
              "type": "dataframe",
              "variable_name": "wage",
              "summary": "{\n  \"name\": \"wage\",\n  \"rows\": 262,\n  \"fields\": [\n    {\n      \"column\": \"YEAR\",\n      \"properties\": {\n        \"dtype\": \"object\",\n        \"num_unique_values\": 2,\n        \"samples\": [\n          \"1981\",\n          \"1978\"\n        ],\n        \"semantic_type\": \"\",\n        \"description\": \"\"\n      }\n    },\n    {\n      \"column\": \"AGE\",\n      \"properties\": {\n        \"dtype\": \"number\",\n        \"std\": 23,\n        \"min\": 0,\n        \"max\": 80,\n        \"num_unique_values\": 46,\n        \"samples\": [\n          42,\n          78\n        ],\n        \"semantic_type\": \"\",\n        \"description\": \"\"\n      }\n    },\n    {\n      \"column\": \"DISTANCE_BUS\",\n      \"properties\": {\n        \"dtype\": \"number\",\n        \"std\": 9038.018581724376,\n        \"min\": 1000.0,\n        \"max\": 35000.0,\n        \"num_unique_values\": 34,\n        \"samples\": [\n          24000.0,\n          31000.0\n        ],\n        \"semantic_type\": \"\",\n        \"description\": \"\"\n      }\n    },\n    {\n      \"column\": \"DISTANCE_INTERSTATE\",\n      \"properties\": {\n        \"dtype\": \"number\",\n        \"std\": 9116.994728270827,\n        \"min\": 1000.0,\n        \"max\": 34000.0,\n        \"num_unique_values\": 34,\n        \"samples\": [\n          26000.0,\n          1000.0\n        ],\n        \"semantic_type\": \"\",\n        \"description\": \"\"\n      }\n    },\n    {\n      \"column\": \"PRICE\",\n      \"properties\": {\n        \"dtype\": \"number\",\n        \"std\": 42329.08948383199,\n        \"min\": 31000.0,\n        \"max\": 300000.0,\n        \"num_unique_values\": 174,\n        \"samples\": [\n          143000.0,\n          38500.0\n        ],\n        \"semantic_type\": \"\",\n        \"description\": \"\"\n      }\n    },\n    {\n      \"column\": \"ROOMS\",\n      \"properties\": {\n        \"dtype\": \"number\",\n        \"std\": 0,\n        \"min\": 4,\n        \"max\": 10,\n        \"num_unique_values\": 7,\n        \"samples\": [\n          7,\n          6\n        ],\n        \"semantic_type\": \"\",\n        \"description\": \"\"\n      }\n    },\n    {\n      \"column\": \"AREA\",\n      \"properties\": {\n        \"dtype\": \"number\",\n        \"std\": 702,\n        \"min\": 912,\n        \"max\": 5136,\n        \"num_unique_values\": 212,\n        \"samples\": [\n          2112,\n          1746\n        ],\n        \"semantic_type\": \"\",\n        \"description\": \"\"\n      }\n    },\n    {\n      \"column\": \"LAND\",\n      \"properties\": {\n        \"dtype\": \"number\",\n        \"std\": 41562.70008320828,\n        \"min\": 1710.0,\n        \"max\": 544500.0,\n        \"num_unique_values\": 182,\n        \"samples\": [\n          7500.0,\n          147668.0\n        ],\n        \"semantic_type\": \"\",\n        \"description\": \"\"\n      }\n    },\n    {\n      \"column\": \"BATHS\",\n      \"properties\": {\n        \"dtype\": \"number\",\n        \"std\": 0,\n        \"min\": 1,\n        \"max\": 4,\n        \"num_unique_values\": 4,\n        \"samples\": [\n          3,\n          4\n        ],\n        \"semantic_type\": \"\",\n        \"description\": \"\"\n      }\n    }\n  ]\n}"
            }
          },
          "metadata": {},
          "execution_count": 34
        }
      ]
    },
    {
      "cell_type": "code",
      "source": [
        "year = wage['YEAR'].value_counts()\n",
        "year.index = ['1981', '1978']"
      ],
      "metadata": {
        "id": "OzRZ0tAOYIwz"
      },
      "execution_count": 35,
      "outputs": []
    },
    {
      "cell_type": "code",
      "source": [
        "year"
      ],
      "metadata": {
        "colab": {
          "base_uri": "https://localhost:8080/"
        },
        "id": "0RlqW-5ObBac",
        "outputId": "6e94bcc7-7355-4e98-e0c3-b8279208ed9d"
      },
      "execution_count": null,
      "outputs": [
        {
          "output_type": "execute_result",
          "data": {
            "text/plain": [
              "1981    151\n",
              "1978    120\n",
              "Name: YEAR, dtype: int64"
            ]
          },
          "metadata": {},
          "execution_count": 208
        }
      ]
    },
    {
      "cell_type": "code",
      "source": [
        "plt.bar(year.index, year.values)"
      ],
      "metadata": {
        "colab": {
          "base_uri": "https://localhost:8080/",
          "height": 448
        },
        "id": "lSqdRLz_bGTq",
        "outputId": "2c312062-82ca-4e8a-97f5-da701903956c"
      },
      "execution_count": null,
      "outputs": [
        {
          "output_type": "execute_result",
          "data": {
            "text/plain": [
              "<BarContainer object of 2 artists>"
            ]
          },
          "metadata": {},
          "execution_count": 209
        },
        {
          "output_type": "display_data",
          "data": {
            "text/plain": [
              "<Figure size 640x480 with 1 Axes>"
            ],
            "image/png": "[encoded data removed]"
          },
          "metadata": {}
        }
      ]
    },
    {
      "cell_type": "code",
      "source": [
        "sns.barplot(x=year.values, y=year.index, orient='h')"
      ],
      "metadata": {
        "colab": {
          "base_uri": "https://localhost:8080/",
          "height": 448
        },
        "id": "GLgux8tsbMNW",
        "outputId": "b92d04d8-7719-4610-c4f1-c0dd183b6226"
      },
      "execution_count": null,
      "outputs": [
        {
          "output_type": "execute_result",
          "data": {
            "text/plain": [
              "<Axes: ylabel='None'>"
            ]
          },
          "metadata": {},
          "execution_count": 210
        },
        {
          "output_type": "display_data",
          "data": {
            "text/plain": [
              "<Figure size 640x480 with 1 Axes>"
            ],
            "image/png": "[encoded data removed]"
          },
          "metadata": {}
        }
      ]
    },
    {
      "cell_type": "code",
      "source": [
        "sns.histplot(wage, x='PRICE', hue='YEAR')"
      ],
      "metadata": {
        "colab": {
          "base_uri": "https://localhost:8080/",
          "height": 467
        },
        "id": "zxf9NekTuEYK",
        "outputId": "fe8cd4fa-ede7-4ecc-c41c-b5faba961aed"
      },
      "execution_count": null,
      "outputs": [
        {
          "output_type": "execute_result",
          "data": {
            "text/plain": [
              "<Axes: xlabel='PRICE', ylabel='Count'>"
            ]
          },
          "metadata": {},
          "execution_count": 227
        },
        {
          "output_type": "display_data",
          "data": {
            "text/plain": [
              "<Figure size 640x480 with 1 Axes>"
            ],
            "image/png": "[encoded data removed]"
          },
          "metadata": {}
        }
      ]
    },
    {
      "cell_type": "code",
      "source": [
        "sns.boxplot(data, y='ROOMS')"
      ],
      "metadata": {
        "id": "8B8uhA2UuVe-",
        "colab": {
          "base_uri": "https://localhost:8080/",
          "height": 428
        },
        "outputId": "fba318f5-7a47-411e-b86a-21109dfcb738"
      },
      "execution_count": 37,
      "outputs": [
        {
          "output_type": "execute_result",
          "data": {
            "text/plain": [
              "<Axes: ylabel='ROOMS'>"
            ]
          },
          "metadata": {},
          "execution_count": 37
        },
        {
          "output_type": "display_data",
          "data": {
            "text/plain": [
              "<Figure size 640x480 with 1 Axes>"
            ],
            "image/png": "[encoded data removed]"
          },
          "metadata": {}
        }
      ]
    },
    {
      "cell_type": "code",
      "source": [
        "sns.boxplot(data, y='BATHS')"
      ],
      "metadata": {
        "colab": {
          "base_uri": "https://localhost:8080/",
          "height": 428
        },
        "id": "TibKLxZdS16t",
        "outputId": "b296c20f-3980-47f6-d0e8-00832a1d0d74"
      },
      "execution_count": 38,
      "outputs": [
        {
          "output_type": "execute_result",
          "data": {
            "text/plain": [
              "<Axes: ylabel='BATHS'>"
            ]
          },
          "metadata": {},
          "execution_count": 38
        },
        {
          "output_type": "display_data",
          "data": {
            "text/plain": [
              "<Figure size 640x480 with 1 Axes>"
            ],
            "image/png": "[encoded data removed]"
          },
          "metadata": {}
        }
      ]
    },
    {
      "cell_type": "code",
      "source": [
        "sns.jointplot(y=wage['PRICE'],x=wage['AGE'])"
      ],
      "metadata": {
        "colab": {
          "base_uri": "https://localhost:8080/",
          "height": 624
        },
        "id": "FyGAB39rS7bN",
        "outputId": "ec7d701e-51a9-4fc0-e1a5-ea23b46a5e8d"
      },
      "execution_count": 40,
      "outputs": [
        {
          "output_type": "execute_result",
          "data": {
            "text/plain": [
              "<seaborn.axisgrid.JointGrid at 0x7a60aef1e530>"
            ]
          },
          "metadata": {},
          "execution_count": 40
        },
        {
          "output_type": "display_data",
          "data": {
            "text/plain": [
              "<Figure size 600x600 with 3 Axes>"
            ],
            "image/png": "[encoded data removed]"
          },
          "metadata": {}
        }
      ]
    },
    {
      "cell_type": "code",
      "source": [
        "sns.jointplot(y=wage['PRICE'],x=wage['DISTANCE_BUS'])"
      ],
      "metadata": {
        "colab": {
          "base_uri": "https://localhost:8080/",
          "height": 624
        },
        "id": "_eb-IfCTTPtX",
        "outputId": "3de78869-e935-40e9-e9e2-8ef23503516e"
      },
      "execution_count": 41,
      "outputs": [
        {
          "output_type": "execute_result",
          "data": {
            "text/plain": [
              "<seaborn.axisgrid.JointGrid at 0x7a60abe2a320>"
            ]
          },
          "metadata": {},
          "execution_count": 41
        },
        {
          "output_type": "display_data",
          "data": {
            "text/plain": [
              "<Figure size 600x600 with 3 Axes>"
            ],
            "image/png": "[encoded data removed]"
          },
          "metadata": {}
        }
      ]
    },
    {
      "cell_type": "code",
      "source": [
        "sns.jointplot(y=wage['PRICE'],x=wage['DISTANCE_INTERSTATE'])"
      ],
      "metadata": {
        "colab": {
          "base_uri": "https://localhost:8080/",
          "height": 624
        },
        "id": "JP7J_dKaTYI9",
        "outputId": "795f2afb-e091-4fd5-ef0c-5b551c107db4"
      },
      "execution_count": 42,
      "outputs": [
        {
          "output_type": "execute_result",
          "data": {
            "text/plain": [
              "<seaborn.axisgrid.JointGrid at 0x7a60abda7550>"
            ]
          },
          "metadata": {},
          "execution_count": 42
        },
        {
          "output_type": "display_data",
          "data": {
            "text/plain": [
              "<Figure size 600x600 with 3 Axes>"
            ],
            "image/png": "[encoded data removed]"
          },
          "metadata": {}
        }
      ]
    },
    {
      "cell_type": "code",
      "source": [
        "sns.jointplot(y=wage['PRICE'],x=wage['AREA'])"
      ],
      "metadata": {
        "colab": {
          "base_uri": "https://localhost:8080/",
          "height": 624
        },
        "id": "CkJ9KieGTeSO",
        "outputId": "a91ee9ee-49cc-4750-ca14-54963cd15cfa"
      },
      "execution_count": 43,
      "outputs": [
        {
          "output_type": "execute_result",
          "data": {
            "text/plain": [
              "<seaborn.axisgrid.JointGrid at 0x7a60abe2b5b0>"
            ]
          },
          "metadata": {},
          "execution_count": 43
        },
        {
          "output_type": "display_data",
          "data": {
            "text/plain": [
              "<Figure size 600x600 with 3 Axes>"
            ],
            "image/png": "[encoded data removed]"
          },
          "metadata": {}
        }
      ]
    },
    {
      "cell_type": "code",
      "source": [
        "sns.jointplot(y=wage['PRICE'],x=wage['LAND'])"
      ],
      "metadata": {
        "colab": {
          "base_uri": "https://localhost:8080/",
          "height": 624
        },
        "id": "2h3sJT3OTl2I",
        "outputId": "4b2db296-58e7-4897-d721-176e26468b62"
      },
      "execution_count": 44,
      "outputs": [
        {
          "output_type": "execute_result",
          "data": {
            "text/plain": [
              "<seaborn.axisgrid.JointGrid at 0x7a60abb20640>"
            ]
          },
          "metadata": {},
          "execution_count": 44
        },
        {
          "output_type": "display_data",
          "data": {
            "text/plain": [
              "<Figure size 600x600 with 3 Axes>"
            ],
            "image/png": "[encoded data removed]"
          },
          "metadata": {}
        }
      ]
    },
    {
      "cell_type": "code",
      "source": [
        "sns.boxplot(wage, y='PRICE', x='YEAR')"
      ],
      "metadata": {
        "colab": {
          "base_uri": "https://localhost:8080/",
          "height": 466
        },
        "id": "gkPfLE49ToVU",
        "outputId": "52e8f180-22f6-4dd0-f090-1fb38edefc30"
      },
      "execution_count": 45,
      "outputs": [
        {
          "output_type": "execute_result",
          "data": {
            "text/plain": [
              "<Axes: xlabel='YEAR', ylabel='PRICE'>"
            ]
          },
          "metadata": {},
          "execution_count": 45
        },
        {
          "output_type": "display_data",
          "data": {
            "text/plain": [
              "<Figure size 640x480 with 1 Axes>"
            ],
            "image/png": "[encoded data removed]"
          },
          "metadata": {}
        }
      ]
    },
    {
      "cell_type": "code",
      "source": [
        "sns.boxplot(wage, y='PRICE', x='BATHS')"
      ],
      "metadata": {
        "colab": {
          "base_uri": "https://localhost:8080/",
          "height": 466
        },
        "id": "agPHQPilVxWb",
        "outputId": "c8b1e30e-3705-4817-f091-f49375045636"
      },
      "execution_count": 46,
      "outputs": [
        {
          "output_type": "execute_result",
          "data": {
            "text/plain": [
              "<Axes: xlabel='BATHS', ylabel='PRICE'>"
            ]
          },
          "metadata": {},
          "execution_count": 46
        },
        {
          "output_type": "display_data",
          "data": {
            "text/plain": [
              "<Figure size 640x480 with 1 Axes>"
            ],
            "image/png": "[encoded data removed]"
          },
          "metadata": {}
        }
      ]
    },
    {
      "cell_type": "code",
      "source": [
        "sns.boxplot(wage, y='PRICE', x='ROOMS')"
      ],
      "metadata": {
        "colab": {
          "base_uri": "https://localhost:8080/",
          "height": 466
        },
        "id": "EHC9jUr9V0cU",
        "outputId": "c5c32701-95f1-4fc0-99c9-d319b838e80b"
      },
      "execution_count": 47,
      "outputs": [
        {
          "output_type": "execute_result",
          "data": {
            "text/plain": [
              "<Axes: xlabel='ROOMS', ylabel='PRICE'>"
            ]
          },
          "metadata": {},
          "execution_count": 47
        },
        {
          "output_type": "display_data",
          "data": {
            "text/plain": [
              "<Figure size 640x480 with 1 Axes>"
            ],
            "image/png": "[encoded data removed]"
          },
          "metadata": {}
        }
      ]
    },
    {
      "cell_type": "code",
      "source": [],
      "metadata": {
        "id": "aQpHeVKoV2vT"
      },
      "execution_count": null,
      "outputs": []
    }
  ]
}